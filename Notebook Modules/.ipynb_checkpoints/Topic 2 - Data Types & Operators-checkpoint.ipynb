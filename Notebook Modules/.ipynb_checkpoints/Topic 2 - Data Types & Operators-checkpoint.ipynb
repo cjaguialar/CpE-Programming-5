{
 "cells": [
  {
   "cell_type": "markdown",
   "id": "4e95b4d5-3053-44f1-bf3e-5f00be1112dd",
   "metadata": {},
   "source": [
    "# Programming 5 - Python Programming"
   ]
  },
  {
   "cell_type": "markdown",
   "id": "95f1e24c-7176-4954-b6f7-a0434824a42f",
   "metadata": {},
   "source": [
    "## Data Types & Operators\r\n",
    "\r\n",
    "In this lesson, we'll explore **data types** (Numbers, Strings, Booleans) and learn about **operators** (Arithmetic, Comparison, Logical). These are the building blocks of any Python program. By understanding how each data type behaves with different operators, you’ll gain a solid foundation for more complex concepts like data structures, conditionals, and functions.\r\n",
    "\r\n",
    "> **Note**: For a more in-depth discussion on Python’s data types and operators, see  \r\n",
    "> - Sanner, M. F. (1999). *Python: A Programming Language for Software Integration and Development.* Journal of Molecular Graphics and Modelling, 17(1), 57-61.  \r\n",
    "> - Lutz, M. (2013). *Learning Python* (5th ed.). O’Reilly Media, Inc.  \r\n",
    "> - Downey, A. B. (2015). *Think Python: How to Think Like a Computer Scientist.* O’Reilly Media, Inc.  \r\n",
    "\r\n",
    "These resources (all available via Google Scholar) discuss Python’s design philosophy, emphasize clarity over complexity, and provide more detailed explanations and examples.\r\n",
    "\r\n",
    "---\r\n"
   ]
  },
  {
   "cell_type": "markdown",
   "id": "d98d15f9-bff2-4bb7-9047-229e88197d51",
   "metadata": {},
   "source": [
    "## 1. Overview of Key Concepts\n",
    "\n",
    "### 1.1 Data Types\n",
    "\n",
    "1. **Numbers**  \n",
    "   - **Integers** (e.g. `10`, `-3`) — used for whole numbers (positive, negative, or zero).  \n",
    "   - **Floats** (e.g. `3.14`, `-0.5`) — used for decimal or fractional values.\n",
    "\n",
    "2. **Strings**  \n",
    "   - Represent text enclosed within quotes (`\"Hello World\"` or `'Hi'`).  \n",
    "   - Strings are immutable, meaning you can’t change individual characters within them once they’re created (you can only create new strings).\n",
    "\n",
    "3. **Booleans**  \n",
    "   - Represent logical values: `True` or `False`.  \n",
    "   - Often used in conditional statements (`if`, `while`) to control the flow of a program.\n"
   ]
  },
  {
   "cell_type": "markdown",
   "id": "3e5a7fd4-633e-438e-9f75-199f42a119a6",
   "metadata": {},
   "source": [
    "# 🧮 Python Operators Summary\r\n",
    "\r\n",
    "---\r\n",
    "\r\n",
    "## ➕ Arithmetic Operators\r\n",
    "\r\n",
    "| Operator | Name            | Description                                                          |\r\n",
    "|:--------:|-----------------|----------------------------------------------------------------------|\r\n",
    "| `+`      | Addition        | Adds two operands. Example: `a + b`                                 |\r\n",
    "| `-`      | Subtraction     | Subtracts the second operand from the first. Example: `a - b`       |\r\n",
    "| `*`      | Multiplication  | Multiplies two operands. Example: `a * b`                           |\r\n",
    "| `/`      | Division        | Divides the first operand by the second (always returns a float). Example: `a / b` |\r\n",
    "| `//`     | Floor Division  | Divides and returns the largest integer less than or equal to the result. Example: `a // b` |\r\n",
    "| `**`     | Exponentiation  | Raises the first operand to the power of the second. Example: `a ** b` |\r\n",
    "| `%`      | Modulus         | Returns the remainder of the division. Example: `a % b`             |\r\n",
    "\r\n",
    "---\r\n",
    "\r\n",
    "## 🔎 Comparison Operators  \r\n",
    "(Result is always Boolean: `True` or `False`)\r\n",
    "\r\n",
    "| Operator | Name                     | Description                                                         |\r\n",
    "|:--------:|--------------------------|---------------------------------------------------------------------|\r\n",
    "| `==`     | Equal to                 | Returns `True` if both operands are equal. Example: `a == b`        |\r\n",
    "| `!=`     | Not equal to             | Returns `True` if operands are not equal. Example: `a != b`         |\r\n",
    "| `>`      | Greater than             | Returns `True` if the left operand is greater than the right. Example: `a > b` |\r\n",
    "| `<`      | Less than                | Returns `True` if the left operand is less than the right. Example: `a < b` |\r\n",
    "| `>=`     | Greater than or equal to | Returns `True` if the left operand is greater than or equal to the right. Example: `a >= b` |\r\n",
    "| `<=`     | Less than or equal to    | Returns `True` if the left operand is less than or equal to the right. Example: `a <= b` |\r\n",
    "\r\n",
    "---\r\n",
    "\r\n",
    "## 🔗 Logical Operators\r\n",
    "\r\n",
    "| Operator | Name   | Description                                                                          |\r\n",
    "|:--------:|--------|--------------------------------------------------------------------------------------|\r\n",
    "| `and`    | Logical AND  | Returns `True` if both operands are `True`. Example: `a and b`               |\r\n",
    "| `or`     | Logical OR   | Returns `True` if at least one operand is `True`. Example: `a or b`          |\r\n",
    "| `not`    | Logical NOT  | Inverts the Boolean value. `True` becomes `False`, `False` becomes `True`. Example: `not a` |\r\n",
    "\r\n",
    "---\r\n"
   ]
  },
  {
   "cell_type": "code",
   "execution_count": 6,
   "id": "406f9da2-9491-41b2-8c47-afe941c556ab",
   "metadata": {},
   "outputs": [],
   "source": [
    "# Suppose a customer buys 3 apples at $2 each and 2 oranges at $1.5 each\n",
    "apples = 3\n",
    "oranges = 2"
   ]
  },
  {
   "cell_type": "code",
   "execution_count": 3,
   "id": "44e64e5d-0d01-4983-961d-43acded44ff7",
   "metadata": {},
   "outputs": [],
   "source": [
    "# Arithmetic operators to calculate total cost\n",
    "cost_apples = apples * 2        # 3 * 2 = 6\n",
    "cost_oranges = oranges * 1.5    # 2 * 1.5 = 3.0\n"
   ]
  },
  {
   "cell_type": "code",
   "execution_count": 4,
   "id": "1e25f3e2-25a7-4653-93be-dd4849c4a262",
   "metadata": {},
   "outputs": [],
   "source": [
    "total_cost = cost_apples + cost_oranges  # 6 + 3.0 = 9.0"
   ]
  },
  {
   "cell_type": "code",
   "execution_count": 5,
   "id": "44277251-f701-4e7d-ae06-4aad78e2ea9e",
   "metadata": {},
   "outputs": [
    {
     "name": "stdout",
     "output_type": "stream",
     "text": [
      "Total Cost of Fruits: 9.0\n"
     ]
    }
   ],
   "source": [
    "print(\"Total Cost of Fruits:\", total_cost)"
   ]
  },
  {
   "cell_type": "markdown",
   "id": "e7b98790-efaf-4e06-b5a6-672e6b0096c1",
   "metadata": {},
   "source": [
    "**Detailed Explanation**\n",
    "\n",
    "1. **Variable Declarations**  \n",
    "   - `apples = 3` means we're storing the integer value `3` in the variable `apples`.  \n",
    "   - `oranges = 2` stores the integer `2`.\n",
    "\n",
    "2. **Multiplication Operator `*`**  \n",
    "   - `cost_apples = apples * 2` uses the multiplication operator. Since `apples` is `3`, `cost_apples` becomes `6`.  \n",
    "   - `cost_oranges = oranges * 1.5` uses a float `1.5`. This results in `3.0`.\n",
    "\n",
    "3. **Addition Operator `+`**  \n",
    "   - `total_cost = cost_apples + cost_oranges` adds up `6` and `3.0`, giving us `9.0`.\n",
    "\n",
    "4. **Print Statement**  \n",
    "   - `print(\"Total Cost of Fruits:\", total_cost)` outputs **Total Cost of Fruits: 9.0**.\n",
    "\n",
    "This scenario illustrates how arithmetic operators work with both **integers** and **floats**, automatically producing a **float** result when mixing the two."
   ]
  },
  {
   "cell_type": "markdown",
   "id": "0c074102-2a30-4e2e-bb3f-ce768a93b37c",
   "metadata": {},
   "source": [
    "## ➕ Addition (`+`)\n",
    "\n",
    "The addition operator (`+`) adds two numbers (operands). It can also be used to concatenate strings.\r\n",
    "\n",
    "🔹 Syntax\r\n",
    "```python\r\n",
    "result = operand1 + operand2\n"
   ]
  },
  {
   "cell_type": "code",
   "execution_count": 1,
   "id": "a5c67836-fad2-4a34-ba4b-a897273c9685",
   "metadata": {},
   "outputs": [
    {
     "name": "stdout",
     "output_type": "stream",
     "text": [
      "5 + 3 = 8\n",
      "10 + (-4) = 6\n",
      "0.5 + 1.2 = 1.7\n"
     ]
    }
   ],
   "source": [
    "# Example 1\n",
    "result1 = 5 + 3\n",
    "print(\"5 + 3 =\", result1)\n",
    "\n",
    "# Example 2\n",
    "result2 = 10 + (-4)\n",
    "print(\"10 + (-4) =\", result2)\n",
    "\n",
    "# Example 3\n",
    "result3 = 0.5 + 1.2\n",
    "print(\"0.5 + 1.2 =\", result3)"
   ]
  },
  {
   "cell_type": "code",
   "execution_count": 5,
   "id": "76446823-8ebd-483b-958a-56bc95fc1637",
   "metadata": {},
   "outputs": [
    {
     "name": "stdout",
     "output_type": "stream",
     "text": [
      "Hello, World!\n"
     ]
    }
   ],
   "source": [
    "greeting = \"Hello, \" + \"World!\"\n",
    "print(greeting)"
   ]
  },
  {
   "cell_type": "code",
   "execution_count": 8,
   "id": "42bbbf4a-a370-4464-9158-c29410dfad2f",
   "metadata": {},
   "outputs": [
    {
     "name": "stdout",
     "output_type": "stream",
     "text": [
      "Hello, Alice Wonderland!\n"
     ]
    }
   ],
   "source": [
    "# Gather user first and last name\n",
    "first_name = \"Alice\"\n",
    "last_name = \"Wonderland\"\n",
    "\n",
    "# Concatenate using '+' operator\n",
    "full_name = first_name + \" \" + last_name\n",
    "\n",
    "print(\"Hello, \" + full_name + \"!\")\n"
   ]
  },
  {
   "cell_type": "markdown",
   "id": "f02d7981-b567-4a53-903a-b533c673b10c",
   "metadata": {},
   "source": [
    "**Detailed Explanation**\n",
    "\n",
    "**String Variables:**  \n",
    "`first_name = \"Alice\"` and `last_name = \"Wonderland\"` assign string values to the variables.\n",
    "\n",
    "**Concatenation with `+`:**  \n",
    "`full_name = first_name + \" \" + last_name` joins `\"Alice\"`, `\" \"`, and `\"Wonderland\"` into `\"Alice Wonderland\"`.\n",
    "\n",
    "**Print Statement:**  \n",
    "`print(\"Hello, \" + full_name + \"!\")` uses the `+` operator to form the final greeting string `\"Hello, Alice Wonderland!\"`.\n",
    "\n",
    "When using the `+` operator on strings, Python **concatenates** them, forming one continuous string. This is one way to combine text dynamically.\n"
   ]
  },
  {
   "cell_type": "markdown",
   "id": "40bc12cc-1b3d-4a3b-9bc9-41deaa766b7d",
   "metadata": {},
   "source": [
    "## ➖ Subtraction (`-`)\n",
    "\n",
    "The subtraction operator (`-`) subtracts the second operand from the first.\n",
    "\n",
    "🔹 Syntax\r\n",
    "```python\r\n",
    "result = operand1 - operand2"
   ]
  },
  {
   "cell_type": "code",
   "execution_count": 2,
   "id": "e8b9c14f-572c-4a4f-bc7b-f7b3a82378d9",
   "metadata": {},
   "outputs": [
    {
     "name": "stdout",
     "output_type": "stream",
     "text": [
      "10 - 5 = 5\n",
      "7 - 10 = -3\n",
      "0.8 - 0.3 = 0.5\n"
     ]
    }
   ],
   "source": [
    "# Example 1\n",
    "result1 = 10 - 5\n",
    "print(\"10 - 5 =\", result1)\n",
    "\n",
    "# Example 2\n",
    "result2 = 7 - 10\n",
    "print(\"7 - 10 =\", result2)\n",
    "\n",
    "# Example 3\n",
    "result3 = 0.8 - 0.3\n",
    "print(\"0.8 - 0.3 =\", result3)\n"
   ]
  },
  {
   "cell_type": "markdown",
   "id": "06990745-ffb9-4977-83a5-ec79fb7197d5",
   "metadata": {},
   "source": [
    "## ✖️ Multiplication (`*`)\n",
    "\n",
    "The multiplication operator (`*`) multiplies two numbers (operands).\n",
    "\n",
    "🔹 Syntax\r\n",
    "```python\r\n",
    "result = operand1 * operand2"
   ]
  },
  {
   "cell_type": "code",
   "execution_count": 3,
   "id": "17929e43-db6d-45c8-acf5-5a958745097f",
   "metadata": {},
   "outputs": [
    {
     "name": "stdout",
     "output_type": "stream",
     "text": [
      "4 * 3 = 12\n",
      "7 * 0 = 0\n",
      "2.5 * 4 = 10.0\n"
     ]
    }
   ],
   "source": [
    "# Example 1\n",
    "result1 = 4 * 3\n",
    "print(\"4 * 3 =\", result1)\n",
    "\n",
    "# Example 2\n",
    "result2 = 7 * 0\n",
    "print(\"7 * 0 =\", result2)\n",
    "\n",
    "# Example 3\n",
    "result3 = 2.5 * 4\n",
    "print(\"2.5 * 4 =\", result3)\n"
   ]
  },
  {
   "cell_type": "markdown",
   "id": "023e354f-70e0-4af9-a094-861ad9751e5c",
   "metadata": {},
   "source": [
    "## ➗ Division (`/`)\n",
    "\n",
    "The division operator (`/`) divides the first number (dividend) by the second number (divisor) and returns a **float** result, even if both numbers are integers.\n",
    "\n",
    "🔹 Syntax\r\n",
    "```python\r\n",
    "result = operand1 / operand22"
   ]
  },
  {
   "cell_type": "code",
   "execution_count": 6,
   "id": "f5655c67-8df3-4306-a299-288b42e186c2",
   "metadata": {},
   "outputs": [
    {
     "name": "stdout",
     "output_type": "stream",
     "text": [
      "10 / 2 = 5.0\n",
      "7 / 3 = 2.3333333333333335\n",
      "5 / 1 = 5.0\n"
     ]
    }
   ],
   "source": [
    "# Example 1: Simple division\n",
    "result1 = 10 / 2\n",
    "print(\"10 / 2 =\", result1)\n",
    "# Output: 10 / 2 = 5.0\n",
    "\n",
    "# Example 2: Division resulting in a decimal\n",
    "result2 = 7 / 3\n",
    "print(\"7 / 3 =\", result2)\n",
    "# Output: 7 / 3 = 2.3333333333333335\n",
    "\n",
    "# Example 3: Division by 1\n",
    "result3 = 5 / 1\n",
    "print(\"5 / 1 =\", result3)\n",
    "# Output: 5 / 1 = 5.0\n"
   ]
  },
  {
   "cell_type": "code",
   "execution_count": 8,
   "id": "b5dfd389-c383-46ec-877d-5595eac84504",
   "metadata": {},
   "outputs": [
    {
     "ename": "ZeroDivisionError",
     "evalue": "division by zero",
     "output_type": "error",
     "traceback": [
      "\u001b[1;31m---------------------------------------------------------------------------\u001b[0m",
      "\u001b[1;31mZeroDivisionError\u001b[0m                         Traceback (most recent call last)",
      "Cell \u001b[1;32mIn[8], line 2\u001b[0m\n\u001b[0;32m      1\u001b[0m \u001b[38;5;66;03m# Example of ZeroDivisionError\u001b[39;00m\n\u001b[1;32m----> 2\u001b[0m result \u001b[38;5;241m=\u001b[39m \u001b[38;5;241;43m10\u001b[39;49m\u001b[43m \u001b[49m\u001b[38;5;241;43m/\u001b[39;49m\u001b[43m \u001b[49m\u001b[38;5;241;43m0\u001b[39;49m\n\u001b[0;32m      3\u001b[0m \u001b[38;5;28mprint\u001b[39m(result)\n",
      "\u001b[1;31mZeroDivisionError\u001b[0m: division by zero"
     ]
    }
   ],
   "source": [
    "# Example of ZeroDivisionError\n",
    "result = 10 / 0\n",
    "print(result)"
   ]
  },
  {
   "cell_type": "markdown",
   "id": "0979e4a3-ed78-4978-be9d-01fd1c9136f4",
   "metadata": {},
   "source": [
    "## // Floor Division (`//`)\n",
    "\n",
    "The floor division operator (`//`) divides two numbers and returns the **largest integer less than or equal to** the result (it \"floors\" the result). The answer is an integer if both operands are integers; otherwise, it’s a float.\n",
    "\n",
    "🔹 Syntax\n",
    "```python\n",
    "result = operand1 // operand2"
   ]
  },
  {
   "cell_type": "code",
   "execution_count": 9,
   "id": "383a53ca-b8b4-40a2-9a81-7ab03224fdf1",
   "metadata": {},
   "outputs": [
    {
     "name": "stdout",
     "output_type": "stream",
     "text": [
      "10 // 3 = 3\n",
      "7 // 2 = 3\n",
      "-7 // 3 = -3\n"
     ]
    }
   ],
   "source": [
    "# Example 1: Floor division of positive numbers\n",
    "result1 = 10 // 3\n",
    "print(\"10 // 3 =\", result1)\n",
    "# Output: 10 // 3 = 3\n",
    "\n",
    "# Example 2: Floor division resulting in an integer quotient\n",
    "result2 = 7 // 2\n",
    "print(\"7 // 2 =\", result2)\n",
    "# Output: 7 // 2 = 3\n",
    "\n",
    "# Example 3: Floor division with a negative number\n",
    "result3 = -7 // 3\n",
    "print(\"-7 // 3 =\", result3)\n",
    "# Output: -7 // 3 = -3\n"
   ]
  },
  {
   "cell_type": "markdown",
   "id": "737c4dc4-3b2e-4e2e-ae71-d1978cea25d9",
   "metadata": {},
   "source": [
    "🔹 **Explanation**\n",
    "\n",
    "- **Example 1**: `10 // 3` gives `3` because `10 / 3 = 3.333...`, and floor division drops the decimal part, keeping only the whole number part `3`.\n",
    "\n",
    "- **Example 2**: `7 // 2` equals `3` because `7 / 2 = 3.5`, and floor division removes everything after the decimal point, leaving `3`.\n",
    "\n",
    "- **Example 3**: `-7 // 3` equals `-3`. Floor division always rounds **down** to the nearest **lower** integer.  \n",
    "  Even though `-7 / 3 = -2.333...`, floor division moves down to `-3`, not up to `-2`.\n"
   ]
  },
  {
   "cell_type": "markdown",
   "id": "b31f2b8e-85ee-4ad9-8be8-6792846ea180",
   "metadata": {},
   "source": [
    "## ** Exponentiation (`**`)\n",
    "\n",
    "The exponentiation operator (`**`) raises the first number (the base) to the power of the second number (the exponent).\n",
    "\n",
    "🔹 Syntax\n",
    "```python\n",
    "result = base ** exponent\n"
   ]
  },
  {
   "cell_type": "code",
   "execution_count": 10,
   "id": "52429afe-6c40-486d-be0f-1f113e4ed01e",
   "metadata": {},
   "outputs": [
    {
     "name": "stdout",
     "output_type": "stream",
     "text": [
      "2 ** 3 = 8\n",
      "5 ** 0 = 1\n",
      "9 ** 0.5 = 3.0\n"
     ]
    }
   ],
   "source": [
    "# Example 1: Positive exponent\n",
    "result1 = 2 ** 3\n",
    "print(\"2 ** 3 =\", result1)\n",
    "# Output: 2 ** 3 = 8\n",
    "\n",
    "# Example 2: Zero exponent\n",
    "result2 = 5 ** 0\n",
    "print(\"5 ** 0 =\", result2)\n",
    "# Output: 5 ** 0 = 1\n",
    "\n",
    "# Example 3: Fractional exponent (square root)\n",
    "result3 = 9 ** 0.5\n",
    "print(\"9 ** 0.5 =\", result3)\n",
    "# Output: 9 ** 0.5 = 3.0\n"
   ]
  },
  {
   "cell_type": "code",
   "execution_count": 11,
   "id": "e83ef7d1-4661-4b33-8e75-1b811bd122a3",
   "metadata": {},
   "outputs": [
    {
     "name": "stdout",
     "output_type": "stream",
     "text": [
      "2 ** -2 = 0.25\n"
     ]
    }
   ],
   "source": [
    "result4 = 2 ** -2\n",
    "print(\"2 ** -2 =\", result4)"
   ]
  },
  {
   "cell_type": "code",
   "execution_count": 10,
   "id": "0fbc05a7-efe3-4c63-b6fc-178f240c5bee",
   "metadata": {},
   "outputs": [
    {
     "name": "stdout",
     "output_type": "stream",
     "text": [
      "Subtotal: 17.95\n",
      "Tip Amount: 1.795\n",
      "Grand Total: 19.744999999999997\n"
     ]
    }
   ],
   "source": [
    "# Input strings representing numbers\n",
    "food_cost_str = \"15.50\"\n",
    "drink_cost_str = \"2.45\"\n",
    "tip_percentage_str = \"10\"\n",
    "\n",
    "# Convert strings to float or int\n",
    "food_cost = float(food_cost_str)\n",
    "drink_cost = float(drink_cost_str)\n",
    "tip_percentage = int(tip_percentage_str)\n",
    "\n",
    "# Calculate total\n",
    "sub_total = food_cost + drink_cost\n",
    "tip_amount = sub_total * (tip_percentage / 100)\n",
    "grand_total = sub_total + tip_amount\n",
    "\n",
    "print(\"Subtotal:\", sub_total)\n",
    "print(\"Tip Amount:\", tip_amount)\n",
    "print(\"Grand Total:\", grand_total)\n"
   ]
  },
  {
   "cell_type": "markdown",
   "id": "628860fd-d728-4a3e-ba04-8d90e86b350a",
   "metadata": {},
   "source": [
    "**Detailed Explanation**\r\n",
    "\r\n",
    "**String Inputs**  \r\n",
    "- Variables like `food_cost_str = \"15.50\"` look like numbers but are actually **strings**.\r\n",
    "\r\n",
    "**Type Conversion**  \r\n",
    "- `float(food_cost_str)` turns the **string** `\"15.50\"` into a **float** `15.50`.  \r\n",
    "- `int(tip_percentage_str)` turns the **string** `\"10\"` into an **integer** `10`.\r\n",
    "\r\n",
    "**Arithmetic Operations**  \r\n",
    "- `sub_total = food_cost + drink_cost` → **15.50 + 2.45 = 17.95**.  \r\n",
    "- `tip_amount = sub_total * (tip_percentage / 100)` → **17.95 * (10 / 100) = 1.795**.  \r\n",
    "- `grand_total = sub_total + tip_amount` → **17.95 + 1.795 = 19.745**.\r\n",
    "\r\n",
    "**Float Precision**  \r\n",
    "- Python might display the result as **19.745000000000005** due to floating-point precision. That’s normal for floats—some decimals can’t be perfectly represented in binary form.\r\n"
   ]
  },
  {
   "cell_type": "markdown",
   "id": "1128fa33-8ef1-4673-822a-1e62a36877b2",
   "metadata": {},
   "source": [
    "---"
   ]
  },
  {
   "cell_type": "markdown",
   "id": "66fadc8c-6e24-4efb-ac56-609add18b17a",
   "metadata": {},
   "source": [
    "# 🔎 Comparison Operators in Python\r\n",
    "\r\n",
    "Comparison operators are used to compare two values. They return either `True` or `False` based on the condition.\r\n"
   ]
  },
  {
   "cell_type": "markdown",
   "id": "caf2351b-ec83-44a4-83fe-9f0620355933",
   "metadata": {},
   "source": [
    "## == Equal to (`==`)\n",
    "Checks if the **two values are equal**."
   ]
  },
  {
   "cell_type": "code",
   "execution_count": 12,
   "id": "ea1428e4-7444-4c3a-8dad-8fafa8609e9f",
   "metadata": {},
   "outputs": [
    {
     "name": "stdout",
     "output_type": "stream",
     "text": [
      "True\n",
      "False\n",
      "True\n"
     ]
    }
   ],
   "source": [
    "# Example 1\n",
    "print(5 == 5)  # True\n",
    "\n",
    "# Example 2\n",
    "print(10 == 5)  # False\n",
    "\n",
    "# Example 3\n",
    "print(\"apple\" == \"apple\")  # True"
   ]
  },
  {
   "cell_type": "markdown",
   "id": "2a0f0626-f9f5-42a6-b6a6-7034469073cb",
   "metadata": {},
   "source": [
    "## ❗ Not Equal To (`!=`)\n",
    "\n",
    "The **Not Equal To** operator (`!=`) checks if **two values are different**.  \n",
    "It returns `True` if they are **not equal** and `False` if they **are equal**.\n",
    "\n",
    "🔹 Syntax\n",
    "```python\n",
    "result = operand1 != operand2\n"
   ]
  },
  {
   "cell_type": "code",
   "execution_count": 14,
   "id": "c6fa3dd4-221c-4ed3-96e3-4ff10421d16d",
   "metadata": {},
   "outputs": [
    {
     "name": "stdout",
     "output_type": "stream",
     "text": [
      "True\n",
      "False\n",
      "True\n"
     ]
    }
   ],
   "source": [
    "# Example 1\n",
    "print(5 != 3)  # True\n",
    "\n",
    "# Example 2\n",
    "print(7 != 7)  # False\n",
    "\n",
    "# Example 3\n",
    "print(\"car\" != \"bike\")  # True\n"
   ]
  },
  {
   "cell_type": "markdown",
   "id": "4ffacb94-6939-4584-a10e-36a65bce6caf",
   "metadata": {},
   "source": [
    "## ➕ Greater Than (`>`)\n",
    "\n",
    "The **Greater Than** operator (`>`) checks if the **left operand is greater than** the right operand.  \n",
    "It returns `True` if the left operand is **greater**, otherwise it returns `False`.\n",
    "\n",
    "🔹 Syntax\n",
    "```python\n",
    "result = operand1 > operand2\n"
   ]
  },
  {
   "cell_type": "code",
   "execution_count": 15,
   "id": "b093ecf8-02ac-49f8-81e8-1709afe5750e",
   "metadata": {},
   "outputs": [
    {
     "name": "stdout",
     "output_type": "stream",
     "text": [
      "True\n",
      "False\n",
      "True\n"
     ]
    }
   ],
   "source": [
    "# Example 1: Simple numbers\n",
    "print(10 > 5)\n",
    "# Output: True (10 is greater than 5)\n",
    "\n",
    "# Example 2: Equal numbers\n",
    "print(100 > 100)\n",
    "# Output: False (100 is NOT greater than 100, they are equal)\n",
    "\n",
    "# Example 3: Negative numbers\n",
    "print(-1 > -5)\n",
    "# Output: True (-1 is greater than -5)\n"
   ]
  },
  {
   "cell_type": "code",
   "execution_count": 17,
   "id": "24839b02-2b66-450e-b145-aec30a49ccd8",
   "metadata": {},
   "outputs": [
    {
     "name": "stdin",
     "output_type": "stream",
     "text": [
      "Enter your score:  80\n"
     ]
    },
    {
     "name": "stdout",
     "output_type": "stream",
     "text": [
      "You passed!\n"
     ]
    }
   ],
   "source": [
    "score = int(input(\"Enter your score: \"))\n",
    "\n",
    "if score > 75:\n",
    "    print(\"You passed!\")\n",
    "else:\n",
    "    print(\"You need to improve.\")\n"
   ]
  },
  {
   "cell_type": "markdown",
   "id": "c4ef8f39-2fc4-4b4f-acff-6a31b6df2372",
   "metadata": {},
   "source": [
    "## ➖ Less Than (`<`)\n",
    "\n",
    "The **Less Than** operator (`<`) checks if the **left operand is less than** the right operand.  \n",
    "It returns `True` if the left operand is **smaller**, otherwise it returns `False`.\n",
    "\n",
    "🔹 Syntax\n",
    "```python\n",
    "result = operand1 < operand2\n"
   ]
  },
  {
   "cell_type": "code",
   "execution_count": 16,
   "id": "9cd003f5-4e10-49c4-ac79-fb21ee5d5128",
   "metadata": {},
   "outputs": [
    {
     "name": "stdout",
     "output_type": "stream",
     "text": [
      "True\n",
      "False\n",
      "True\n"
     ]
    }
   ],
   "source": [
    "# Example 1: Simple numbers\n",
    "print(5 < 10)\n",
    "# Output: True (5 is less than 10)\n",
    "\n",
    "# Example 2: Equal numbers\n",
    "print(50 < 50)\n",
    "# Output: False (50 is NOT less than 50, they are equal)\n",
    "\n",
    "# Example 3: Negative numbers\n",
    "print(-5 < -1)\n",
    "# Output: True (-5 is less than -1)\n"
   ]
  },
  {
   "cell_type": "code",
   "execution_count": 19,
   "id": "3009aea5-5f0a-46ad-869b-b1d930180de2",
   "metadata": {},
   "outputs": [
    {
     "name": "stdin",
     "output_type": "stream",
     "text": [
      "Enter the temperature:  -5\n"
     ]
    },
    {
     "name": "stdout",
     "output_type": "stream",
     "text": [
      "It's freezing!\n"
     ]
    }
   ],
   "source": [
    "temperature = int(input(\"Enter the temperature: \"))\n",
    "\n",
    "if temperature < 0:\n",
    "    print(\"It's freezing!\")\n",
    "else:\n",
    "    print(\"The temperature is above freezing.\")\n"
   ]
  },
  {
   "cell_type": "markdown",
   "id": "4ebfd07d-26e7-4aa7-918a-8871800e210d",
   "metadata": {},
   "source": [
    "## ➕ Greater Than or Equal To (`>=`)\n",
    "\n",
    "The **Greater Than or Equal To** operator (`>=`) checks if the **left operand is greater than or equal to** the right operand.  \n",
    "It returns `True` if the left operand is **greater** than or **equal** to the right operand. Otherwise, it returns `False`.\n",
    "\n",
    "🔹 Syntax\n",
    "```python\n",
    "result = operand1 >= operand2\n"
   ]
  },
  {
   "cell_type": "code",
   "execution_count": 20,
   "id": "434298f8-90aa-4c61-9267-de892399f27c",
   "metadata": {},
   "outputs": [
    {
     "name": "stdout",
     "output_type": "stream",
     "text": [
      "True\n",
      "True\n",
      "False\n"
     ]
    }
   ],
   "source": [
    "# Example 1: Greater number\n",
    "print(5 >= 3)\n",
    "# Output: True (5 is greater than 3)\n",
    "\n",
    "# Example 2: Equal numbers\n",
    "print(7 >= 7)\n",
    "# Output: True (7 is equal to 7)\n",
    "\n",
    "# Example 3: Less than\n",
    "print(2 >= 5)\n",
    "# Output: False (2 is not greater than or equal to 5)\n"
   ]
  },
  {
   "cell_type": "code",
   "execution_count": 7,
   "id": "f1b527aa-6288-4b29-8fca-b26864747b50",
   "metadata": {},
   "outputs": [
    {
     "name": "stdout",
     "output_type": "stream",
     "text": [
      "Student passed the exam.\n"
     ]
    }
   ],
   "source": [
    "# Student's score out of 100\n",
    "score = 85\n",
    "\n",
    "# Compare the score with a threshold\n",
    "passed = score >= 75\n",
    "\n",
    "if passed:\n",
    "    print(\"Student passed the exam.\")\n",
    "else:\n",
    "    print(\"Student failed the exam.\")"
   ]
  },
  {
   "cell_type": "markdown",
   "id": "099c3619-891c-40f2-a11b-60345bdffd2c",
   "metadata": {},
   "source": [
    "**Detailed Explanation**\r\n",
    "\r\n",
    "1. **Comparison Operator `>=`**  \r\n",
    "   - `score >= 75` checks if `85` is greater than or equal to `75`. This returns `True`.\r\n",
    "\r\n",
    "2. **Boolean Variable**  \r\n",
    "   - `passed` stores the result of that comparison (`True`).\r\n",
    "\r\n",
    "3. **If Statement**  \r\n",
    "   - `if passed:` is the same as `if passed == True:`, so the code inside the `if` block runs if `passed` is `True`.\r\n",
    "\r\n",
    "4. **Output**  \r\n",
    "   - Because `passed` is `True`, the program prints **\"Student passed the exam.\"**\r\n",
    "\r\n",
    "This demonstrates how **comparison operators** produce a **Boolean** value that can be used to control **program flow** via conditional statements.\r\n"
   ]
  },
  {
   "cell_type": "markdown",
   "id": "5e1a3a08-118d-4221-8f46-98ca4cf80cc2",
   "metadata": {},
   "source": [
    "## <= Less than or Equal to (`<=`)\n",
    "\n",
    "The `<=` operator checks if the **left operand is less than or equal to** the right operand.  \n",
    "It returns `True` if the condition is satisfied, otherwise it returns `False`.\n",
    "\n",
    "🔹 Syntax\n",
    "```python\n",
    "result = operand1 <= operand2\n"
   ]
  },
  {
   "cell_type": "code",
   "execution_count": 21,
   "id": "64108b80-920a-4cf8-8774-c051529aec57",
   "metadata": {},
   "outputs": [
    {
     "name": "stdout",
     "output_type": "stream",
     "text": [
      "True\n",
      "True\n",
      "False\n"
     ]
    }
   ],
   "source": [
    "# Example 1: Less than\n",
    "print(3 <= 5)  \n",
    "# Output: True (3 is less than 5)\n",
    "\n",
    "# Example 2: Equal to\n",
    "print(6 <= 6)  \n",
    "# Output: True (6 is equal to 6)\n",
    "\n",
    "# Example 3: Greater than (False)\n",
    "print(10 <= 2)  \n",
    "# Output: False (10 is greater than 2)\n"
   ]
  },
  {
   "cell_type": "markdown",
   "id": "07642aad-39ab-484c-8f07-c1d60deed52b",
   "metadata": {},
   "source": [
    "---"
   ]
  },
  {
   "cell_type": "markdown",
   "id": "a5881519-d8c4-48bd-ac13-6ceb9c824d6c",
   "metadata": {},
   "source": [
    "# 🔗 Logical Operators in Python\n",
    "\n",
    "Logical operators are used to combine conditional statements. They return Boolean values (`True` or `False`).\n"
   ]
  },
  {
   "cell_type": "code",
   "execution_count": 9,
   "id": "8c0144ad-d9bb-42ee-8403-bb49a09878e3",
   "metadata": {},
   "outputs": [
    {
     "name": "stdout",
     "output_type": "stream",
     "text": [
      "You have access to edit content.\n"
     ]
    }
   ],
   "source": [
    "# Roles in a system\n",
    "is_admin = False\n",
    "is_editor = True\n",
    "\n",
    "# Logical operators\n",
    "if is_admin or is_editor:\n",
    "    print(\"You have access to edit content.\")\n",
    "else:\n",
    "    print(\"Access denied.\")\n"
   ]
  },
  {
   "cell_type": "markdown",
   "id": "29dc848b-cb84-421e-ae5a-91b1c60a6f70",
   "metadata": {},
   "source": [
    "**Detailed Explanation**\n",
    "\n",
    "**Boolean Variables:**  \n",
    "`is_admin = False`  \n",
    "`is_editor = True`  \n",
    "\n",
    "**Logical Operator `or`:**  \n",
    "The expression `is_admin or is_editor` checks if *at least one* is `True`.  \n",
    "Since `is_editor` is `True`, the entire expression evaluates to `True`.\n",
    "\n",
    "**Conditional Check:**  \n",
    "Because the condition is `True`, the program prints `\"You have access to edit content.\"`\n",
    "\n",
    "**Note on other logical operators:**  \n",
    "- `and` requires **both** operands to be `True`.  \n",
    "- `not` flips a Boolean value from `True` to `False` or vice versa.\n",
    "\n",
    "This is essential in **access control** scenarios, where user permissions rely on Boolean checks.\n"
   ]
  },
  {
   "cell_type": "markdown",
   "id": "044572d2-1155-4fd6-9084-deb95c5f0eb1",
   "metadata": {},
   "source": [
    "## ✅ `and`\n",
    "- Returns `True` if **both** operands are `True`.\n",
    "- Returns `False` if **any one** operand is `False`.\n",
    "\n",
    "🔹 Syntax\n",
    "```python\n",
    "result = condition1 and condition2"
   ]
  },
  {
   "cell_type": "code",
   "execution_count": 22,
   "id": "08a7c7db-9963-4471-8866-0ec43b7fde41",
   "metadata": {},
   "outputs": [
    {
     "name": "stdout",
     "output_type": "stream",
     "text": [
      "True\n",
      "False\n",
      "True\n"
     ]
    }
   ],
   "source": [
    "# Example 1\n",
    "print(True and True)  # True\n",
    "\n",
    "# Example 2\n",
    "print(True and False)  # False\n",
    "\n",
    "# Example 3\n",
    "age = 20\n",
    "citizen = True\n",
    "print(age >= 18 and citizen)  # True (both conditions are True)\n"
   ]
  },
  {
   "cell_type": "markdown",
   "id": "ad37e482-9250-4816-a330-88a0af7aa547",
   "metadata": {},
   "source": [
    "## ✅ `or` Operator\n",
    "\n",
    "The `or` operator returns:\n",
    "- `True` if **at least one** operand is `True`.\n",
    "- `False` if **both** operands are `False`.\n",
    "\n",
    "🔹 Syntax\n",
    "```python\n",
    "result = condition1 or condition2\n"
   ]
  },
  {
   "cell_type": "code",
   "execution_count": 23,
   "id": "ac7e4075-42d6-46f2-88cd-c057774db6e0",
   "metadata": {},
   "outputs": [
    {
     "name": "stdout",
     "output_type": "stream",
     "text": [
      "True\n",
      "False\n",
      "True\n"
     ]
    }
   ],
   "source": [
    "# Example 1: One True operand\n",
    "print(True or False)\n",
    "# Output: True\n",
    "\n",
    "# Example 2: Both operands False\n",
    "print(False or False)\n",
    "# Output: False\n",
    "\n",
    "# Example 3: Practical example\n",
    "is_student = False\n",
    "has_discount_card = True\n",
    "\n",
    "# If either is True, user gets a discount\n",
    "print(is_student or has_discount_card)\n",
    "# Output: True\n"
   ]
  },
  {
   "cell_type": "markdown",
   "id": "29ce2527-898d-4d2a-845e-02bcb120e838",
   "metadata": {},
   "source": [
    "## ✅ `not` Operator\n",
    "\n",
    "The `not` operator **inverts** the Boolean value:\n",
    "- Turns `True` into `False`\n",
    "- Turns `False` into `True`\n",
    "\n",
    "🔹 Syntax\n",
    "```python\n",
    "result = not condition\n"
   ]
  },
  {
   "cell_type": "code",
   "execution_count": 24,
   "id": "fe7accb6-fd66-4fe8-9ca7-e8ae6d937864",
   "metadata": {},
   "outputs": [
    {
     "name": "stdout",
     "output_type": "stream",
     "text": [
      "False\n",
      "True\n",
      "Please log in first.\n"
     ]
    }
   ],
   "source": [
    "# Example 1: Inverting True\n",
    "print(not True)\n",
    "# Output: False\n",
    "\n",
    "# Example 2: Inverting False\n",
    "print(not False)\n",
    "# Output: True\n",
    "\n",
    "# Example 3: Practical example\n",
    "is_logged_in = False\n",
    "\n",
    "# If the user is NOT logged in, show login prompt\n",
    "if not is_logged_in:\n",
    "    print(\"Please log in first.\")\n",
    "# Output: Please log in first.\n"
   ]
  },
  {
   "cell_type": "markdown",
   "id": "319231c9-4fad-4453-96a2-93a49358c6e0",
   "metadata": {},
   "source": [
    "---"
   ]
  }
 ],
 "metadata": {
  "kernelspec": {
   "display_name": "Python 3 (ipykernel)",
   "language": "python",
   "name": "python3"
  },
  "language_info": {
   "codemirror_mode": {
    "name": "ipython",
    "version": 3
   },
   "file_extension": ".py",
   "mimetype": "text/x-python",
   "name": "python",
   "nbconvert_exporter": "python",
   "pygments_lexer": "ipython3",
   "version": "3.11.2"
  }
 },
 "nbformat": 4,
 "nbformat_minor": 5
}
