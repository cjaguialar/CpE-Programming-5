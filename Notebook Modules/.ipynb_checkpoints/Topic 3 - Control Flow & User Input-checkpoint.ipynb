{
 "cells": [
  {
   "cell_type": "markdown",
   "id": "657df6b0-6a86-4780-9e30-1e3967fd8ed6",
   "metadata": {},
   "source": [
    "# Programming 5 - Python Programming"
   ]
  },
  {
   "cell_type": "markdown",
   "id": "2ce86e82-e441-4e5a-abc5-b9baae924a98",
   "metadata": {},
   "source": [
    "## Control Flow & User Input\n",
    "\n",
    "### ✅ Topics Covered\n",
    "- `if`, `elif`, `else` statements\n",
    "- Nested conditions\n",
    "- `match-case` (Python 3.10+)\n",
    "- User input with `input()`\n",
    "- Type conversion (str, int, float)\n",
    "- Basic error handling for user input\n",
    "\n",
    "---\n",
    "\n",
    "### 🔹 Control Flow with `if-elif-else`\n",
    "\n",
    "**Syntax**:\n",
    "```python\n",
    "if condition:\n",
    "    # do something\n",
    "elif another_condition:\n",
    "    # do something else\n",
    "else:\n",
    "    # do something if none of the above\n"
   ]
  },
  {
   "cell_type": "code",
   "execution_count": 1,
   "id": "5475ef01-2c35-4eb1-bc30-f6be22503067",
   "metadata": {},
   "outputs": [
    {
     "name": "stdout",
     "output_type": "stream",
     "text": [
      "B\n"
     ]
    }
   ],
   "source": [
    "grade = 85\n",
    "\n",
    "if grade >= 90:\n",
    "    print(\"A\")\n",
    "elif grade >= 80:\n",
    "    print(\"B\")\n",
    "else:\n",
    "    print(\"C or below\")\n"
   ]
  },
  {
   "cell_type": "markdown",
   "id": "dfcda79f-9ca0-4f40-adf0-3c94c04f69df",
   "metadata": {},
   "source": [
    "### 🔹 User Input in Python\n",
    "\n",
    "Python uses the `input()` function to take input from the user."
   ]
  },
  {
   "cell_type": "code",
   "execution_count": 2,
   "id": "1e2837ee-b7ed-4a15-87f2-022a9a0aba23",
   "metadata": {},
   "outputs": [
    {
     "name": "stdin",
     "output_type": "stream",
     "text": [
      "Enter your name:  mark\n"
     ]
    },
    {
     "name": "stdout",
     "output_type": "stream",
     "text": [
      "Hello, mark!\n"
     ]
    }
   ],
   "source": [
    "name = input(\"Enter your name: \")\n",
    "print(\"Hello, \" + name + \"!\")\n"
   ]
  },
  {
   "cell_type": "markdown",
   "id": "63ce10ae-8e18-4b22-ab61-79defc1672bf",
   "metadata": {},
   "source": [
    "#### ✅ Converting Input Types\n",
    "\n",
    "`input()` always returns a **string**. You can convert it to numbers:"
   ]
  },
  {
   "cell_type": "code",
   "execution_count": 3,
   "id": "c94dc49b-9f39-4aeb-9bf7-7b5f611640e1",
   "metadata": {},
   "outputs": [
    {
     "name": "stdin",
     "output_type": "stream",
     "text": [
      "Enter your age:  6\n"
     ]
    },
    {
     "name": "stdout",
     "output_type": "stream",
     "text": [
      "You will be 7 next year.\n"
     ]
    }
   ],
   "source": [
    "age = int(input(\"Enter your age: \"))\n",
    "print(\"You will be\", age + 1, \"next year.\")\n"
   ]
  },
  {
   "cell_type": "markdown",
   "id": "4ce6b6f6-c972-4a8c-9381-5d0032ebd89d",
   "metadata": {},
   "source": [
    "#### ✅ Error Handling for User Input\n",
    "\n",
    "Handle cases where the user types invalid data:"
   ]
  },
  {
   "cell_type": "code",
   "execution_count": 5,
   "id": "5d932952-e468-4be6-9f32-04b65cd7385a",
   "metadata": {},
   "outputs": [
    {
     "name": "stdin",
     "output_type": "stream",
     "text": [
      "Enter a number:  a\n"
     ]
    },
    {
     "name": "stdout",
     "output_type": "stream",
     "text": [
      "Please enter a valid integer.\n"
     ]
    }
   ],
   "source": [
    "try:\n",
    "    number = int(input(\"Enter a number: \"))\n",
    "    print(\"Double your number is:\", number * 2)\n",
    "except ValueError:\n",
    "    print(\"Please enter a valid integer.\")\n"
   ]
  },
  {
   "cell_type": "markdown",
   "id": "583b5ec3-e94c-479b-bd15-75071b3a1a51",
   "metadata": {},
   "source": [
    "### 🔹 match-case (Python 3.10+)\n",
    "\n",
    "Simpler alternative to complex `if-elif` chains.\n"
   ]
  },
  {
   "cell_type": "code",
   "execution_count": 6,
   "id": "10b498a6-f3bc-41d3-af0e-3aaf05317a5a",
   "metadata": {},
   "outputs": [
    {
     "name": "stdin",
     "output_type": "stream",
     "text": [
      "Enter command:  start\n"
     ]
    },
    {
     "name": "stdout",
     "output_type": "stream",
     "text": [
      "System starting...\n"
     ]
    }
   ],
   "source": [
    "command = input(\"Enter command: \")\n",
    "\n",
    "match command:\n",
    "    case \"start\":\n",
    "        print(\"System starting...\")\n",
    "    case \"stop\":\n",
    "        print(\"System stopping...\")\n",
    "    case _:\n",
    "        print(\"Unknown command\")\n"
   ]
  },
  {
   "cell_type": "markdown",
   "id": "b24e8370-e22a-46bd-a868-e46342892992",
   "metadata": {},
   "source": [
    "## 📝 Situational Examples with Detailed Explanation (User Input & Control Flow)\n",
    "\n",
    "Below are 5 practical examples that demonstrate **user input**, **control flow**, and explain the **syntax** in detail.\n",
    "\n",
    "---"
   ]
  },
  {
   "cell_type": "markdown",
   "id": "05188907-015d-4d7b-a00f-9c014eb96a19",
   "metadata": {},
   "source": [
    "### 1. **Simple Voting Eligibility Checker**\n",
    "#### 📝 Situation:\n",
    "Check if a user is eligible to vote based on their age."
   ]
  },
  {
   "cell_type": "code",
   "execution_count": 7,
   "id": "e6109406-fc9d-4fde-97a2-2d5396aa64cc",
   "metadata": {},
   "outputs": [
    {
     "name": "stdin",
     "output_type": "stream",
     "text": [
      "Enter your age:  18\n"
     ]
    },
    {
     "name": "stdout",
     "output_type": "stream",
     "text": [
      "You are eligible to vote!\n"
     ]
    }
   ],
   "source": [
    "age = int(input(\"Enter your age: \"))  # Ask for the user's age and convert it to an integer\n",
    "\n",
    "if age >= 18:\n",
    "    print(\"You are eligible to vote!\")  # Executes if the condition is true\n",
    "else:\n",
    "    print(\"You are not eligible to vote.\")  # Executes if the condition is false"
   ]
  },
  {
   "cell_type": "markdown",
   "id": "0dd1b685-9660-4d6f-80f8-3f8849a3a65d",
   "metadata": {},
   "source": [
    "✅ **Explanation**:\n",
    "\n",
    "- `input(\"Enter your age: \")` prompts the user to type something. It pauses the program and waits for the user’s response. The input is always received as a **string**.\n",
    "\n",
    "- `int()` converts the string input into an **integer** so you can perform numeric comparisons or calculations.\n",
    "\n",
    "- `if age >= 18:` is a **conditional statement**. It checks whether the `age` variable is greater than or equal to 18. If this condition is **True**, the indented code under `if` runs.\n",
    "\n",
    "- `else:` provides an **alternative block** of code that runs **only if** the `if` condition is **False**. In this case, it handles users who are younger than 18.\n"
   ]
  },
  {
   "cell_type": "markdown",
   "id": "d69268dc-e041-4661-a7cb-dd914798ad01",
   "metadata": {},
   "source": [
    "### 2. Temperature Converter (Celsius to Fahrenheit)\n",
    "\n",
    "📝 **Situation**:  \n",
    "Convert a temperature from Celsius to Fahrenheit based on user input.\n"
   ]
  },
  {
   "cell_type": "code",
   "execution_count": 8,
   "id": "0de13880-fe77-499d-8522-513f0b33e428",
   "metadata": {},
   "outputs": [
    {
     "name": "stdin",
     "output_type": "stream",
     "text": [
      "Enter temperature in Celsius:  40\n"
     ]
    },
    {
     "name": "stdout",
     "output_type": "stream",
     "text": [
      "40.0°C is equal to 104.0°F\n"
     ]
    }
   ],
   "source": [
    "celsius = float(input(\"Enter temperature in Celsius: \"))  # Convert input to a float for decimals\n",
    "fahrenheit = (celsius * 9/5) + 32  # Formula for conversion\n",
    "\n",
    "print(f\"{celsius}°C is equal to {fahrenheit}°F\")"
   ]
  },
  {
   "cell_type": "markdown",
   "id": "2fe7e3f5-7d75-46f5-9b1b-7a4e117500eb",
   "metadata": {},
   "source": [
    "✅ **Explanation**:\n",
    "\n",
    "- `float()` converts the user input from a **string** to a **floating-point number**, allowing the program to handle decimal values like `36.6`.\n",
    "\n",
    "- The conversion formula `(celsius * 9/5) + 32` converts the temperature from **Celsius to Fahrenheit**.\n",
    "\n",
    "- `f\"{celsius}°C is equal to {fahrenheit}°F\"` uses an **f-string** for **string interpolation**, making it easy to insert variables into the output string in a clean and readable format.\n"
   ]
  },
  {
   "cell_type": "markdown",
   "id": "571df041-c5f6-41f0-9bf5-bda66c089962",
   "metadata": {},
   "source": [
    "### 3. **Basic Login Authentication**\n",
    "\n",
    "#### 📝 Situation:\n",
    "Simulate a simple login system by checking a username and password."
   ]
  },
  {
   "cell_type": "code",
   "execution_count": 9,
   "id": "79afdd9d-f3d7-4c01-bf40-370826d34ee2",
   "metadata": {},
   "outputs": [
    {
     "name": "stdin",
     "output_type": "stream",
     "text": [
      "Enter username:  wew\n",
      "Enter password:  34\n"
     ]
    },
    {
     "name": "stdout",
     "output_type": "stream",
     "text": [
      "Access denied!\n"
     ]
    }
   ],
   "source": [
    "username = input(\"Enter username: \")  # Get the username\n",
    "password = input(\"Enter password: \")  # Get the password\n",
    "\n",
    "# Check if both are correct\n",
    "if username == \"admin\" and password == \"1234\":\n",
    "    print(\"Access granted!\")\n",
    "else:\n",
    "    print(\"Access denied!\")"
   ]
  },
  {
   "cell_type": "markdown",
   "id": "9dcf0d3d-04da-4d4f-9605-49f08f6e965a",
   "metadata": {},
   "source": [
    "✅ Explanation:\n",
    "\n",
    "`username = input(\"Enter username: \")`  \n",
    "- Prompts the user to enter their username.  \n",
    "- The input is stored as a **string** in the `username` variable.\n",
    "\n",
    "`password = input(\"Enter password: \")`  \n",
    "- Prompts the user for their password.  \n",
    "- The input is stored as a **string** in the `password` variable.\n",
    "\n",
    "`if username == \"admin\" and password == \"1234\":`  \n",
    "- This condition uses the **logical AND operator (`and`)**.  \n",
    "- **Both conditions must be true** for the code inside the `if` block to execute:  \n",
    "  - `username` equals `\"admin\"`  \n",
    "  - `password` equals `\"1234\"`\n",
    "\n",
    "If **both** conditions are met, the program prints:  \n"
   ]
  },
  {
   "cell_type": "markdown",
   "id": "e5e17625-b3a0-4312-8991-49de5f10000c",
   "metadata": {},
   "source": [
    "### 4. **Odd or Even Number Checker**\n",
    "\n",
    "#### 📝 Situation:\n",
    "Ask the user for a number and check whether it is odd or even."
   ]
  },
  {
   "cell_type": "code",
   "execution_count": 11,
   "id": "c6e7e5ea-0f42-42e5-99ab-15960adbd35a",
   "metadata": {},
   "outputs": [
    {
     "name": "stdin",
     "output_type": "stream",
     "text": [
      "Enter a number:  1000\n"
     ]
    },
    {
     "name": "stdout",
     "output_type": "stream",
     "text": [
      "1000 is even.\n"
     ]
    }
   ],
   "source": [
    "try:\n",
    "    number = int(input(\"Enter a number: \"))  # Convert input to integer\n",
    "\n",
    "    if number % 2 == 0:\n",
    "        print(f\"{number} is even.\")  # Number divisible by 2\n",
    "    else:\n",
    "        print(f\"{number} is odd.\")   # Otherwise, it's odd\n",
    "\n",
    "except ValueError:\n",
    "    print(\"Invalid input! Please enter a valid number.\")"
   ]
  },
  {
   "cell_type": "markdown",
   "id": "5daf3a10-599b-46ff-b51b-a499bf42872c",
   "metadata": {},
   "source": [
    "✅ Explanation:\n",
    "\n",
    "`try:`  \n",
    "- Begins a block of code that **may cause an error**.\n",
    "\n",
    "`number = int(input(\"Enter a number: \"))`  \n",
    "- Prompts the user to enter a number.  \n",
    "- `input()` collects the input as a **string**.  \n",
    "- `int()` converts the string into an **integer**.  \n",
    "- If the input is **not a valid number**, it raises a `ValueError`.\n",
    "\n",
    "`if number % 2 == 0:`  \n",
    "- `%` is the **modulus operator**.  \n",
    "- `number % 2` checks the **remainder** when dividing the number by 2.  \n",
    "- `== 0` means there is **no remainder**, so the number is **even**.\n",
    "\n",
    "`else:`  \n",
    "- Executes if the condition in the `if` statement is **not true**.  \n",
    "- This means there **is** a remainder, so the number is **odd**.\n",
    "\n",
    "`except ValueError:`  \n",
    "- Catches an error if the user enters **invalid input**, such as text instead of a number.  \n",
    "- Prevents the program from crashing and prints an error message:\n",
    "\n",
    "```python\n",
    "    Invalid input! Please enter a valid number."
   ]
  },
  {
   "cell_type": "markdown",
   "id": "b8eecbb8-17b8-4805-9d12-9a21c432bc98",
   "metadata": {},
   "source": [
    "---\n",
    "\n",
    "## 🔹 Nested Conditions in Python\n",
    "\n",
    "### ✅ What Are Nested Conditions?\n",
    "A **nested condition** is an `if` or `elif` statement placed **inside** another `if` or `else` block.  \n",
    "It allows you to check **multiple related conditions** and create **decision trees**.\n",
    "\n",
    "### ✅ Syntax Example\n",
    "```python\n",
    "if condition1:\n",
    "    # Code if condition1 is true\n",
    "    if condition2:\n",
    "        # Code if both condition1 and condition2 are true\n",
    "    else:\n",
    "        # Code if condition1 is true but condition2 is false\n",
    "else:\n",
    "    # Code if condition1 is false\n"
   ]
  },
  {
   "cell_type": "markdown",
   "id": "04cad5cb-7e2b-4a1e-8491-6a6c48aae053",
   "metadata": {},
   "source": [
    "### 📝 Example: Grading System with Nested Conditions"
   ]
  },
  {
   "cell_type": "code",
   "execution_count": 14,
   "id": "9397252a-7c4d-4c1e-95f9-6d630fded4f6",
   "metadata": {},
   "outputs": [
    {
     "name": "stdin",
     "output_type": "stream",
     "text": [
      "Enter your grade:  75\n"
     ]
    },
    {
     "name": "stdout",
     "output_type": "stream",
     "text": [
      "You passed!\n",
      "You got a C!\n"
     ]
    }
   ],
   "source": [
    "grade = int(input(\"Enter your grade: \"))\n",
    "\n",
    "if grade >= 75:\n",
    "    print(\"You passed!\")\n",
    "    \n",
    "    if grade >= 90:\n",
    "        print(\"You got an A!\")\n",
    "    elif grade >= 85:\n",
    "        print(\"You got a B!\")\n",
    "    else:\n",
    "        print(\"You got a C!\")\n",
    "        \n",
    "else:\n",
    "    print(\"You failed.\")"
   ]
  },
  {
   "cell_type": "markdown",
   "id": "65d8c5f7-5cc3-4584-a903-2596cf05e027",
   "metadata": {},
   "source": [
    "✅ Explanation:\n",
    "\n",
    "The first `if` condition checks if the `grade` is **75 or above**, which means the student **passed**.\n",
    "\n",
    "Inside the first `if` block, there is another set of conditions:\n",
    "\n",
    "- `if grade >= 90:`  \n",
    "  Checks if the grade is **90 or above** and gives an **A**.\n",
    "\n",
    "- `elif grade >= 85:`  \n",
    "  Checks if the grade is **between 85 and 89**, giving a **B**.\n",
    "\n",
    "- `else:`  \n",
    "  Handles any passing grade **below 85 but at least 75**, giving a **C**.\n",
    "\n",
    "If the first `if` condition is **false** (grade is below 75), the `else` block runs and prints:  \n",
    "```python\n",
    "You failed."
   ]
  },
  {
   "cell_type": "markdown",
   "id": "95d86fb4-0d51-4246-b5e9-53d1aceddede",
   "metadata": {},
   "source": [
    "### 📝 Example: ATM Withdrawal Nested Condition"
   ]
  },
  {
   "cell_type": "code",
   "execution_count": 16,
   "id": "fc7a403a-fcc0-4c28-8a77-149901adde4e",
   "metadata": {},
   "outputs": [
    {
     "name": "stdin",
     "output_type": "stream",
     "text": [
      "Enter amount to withdraw:  40\n"
     ]
    },
    {
     "name": "stdout",
     "output_type": "stream",
     "text": [
      "Withdrawal successful!\n",
      "Remaining balance: 4960\n"
     ]
    }
   ],
   "source": [
    "balance = 5000\n",
    "withdraw = int(input(\"Enter amount to withdraw: \"))\n",
    "\n",
    "if withdraw > 0:\n",
    "    if withdraw <= balance:\n",
    "        print(\"Withdrawal successful!\")\n",
    "        balance -= withdraw\n",
    "        print(\"Remaining balance:\", balance)\n",
    "    else:\n",
    "        print(\"Insufficient balance.\")\n",
    "else:\n",
    "    print(\"Invalid withdrawal amount.\")\n"
   ]
  },
  {
   "cell_type": "markdown",
   "id": "f23cdf44-112e-4a6f-b7b3-3fd1d3bca739",
   "metadata": {},
   "source": [
    "✅ Explanation:\n",
    "\n",
    "The **first `if`** checks if the withdrawal amount is positive (`withdraw > 0`).\n",
    "\n",
    "Inside it, the **nested `if`** checks if the withdrawal amount is less than or equal to the balance (`withdraw <= balance`).\n",
    "\n",
    "- If **both conditions are true**, it processes the withdrawal and deducts the amount from the balance.\n",
    "- If the **first condition fails** (the withdrawal amount is zero or negative), it prints:\n",
    "```python\n",
    "Invalid withdrawal amount."
   ]
  },
  {
   "cell_type": "markdown",
   "id": "c58220de-9687-4ef8-85de-f2756dbf6f80",
   "metadata": {},
   "source": [
    "---\n",
    "## ✅ Tips for Nested Conditions:\n",
    "\n",
    "- **Useful for dependent decisions**, where one condition depends on another. Nested conditions help manage complex decision-making.\n",
    "  \n",
    "- **Indentation is crucial**. It clearly shows which blocks of code belong to which condition. Improper indentation can lead to logic errors or syntax errors.\n",
    "\n",
    "- **Avoid too many nested conditions**, as they can make your code hard to read and maintain. Deep nesting can be confusing for others (and for yourself later on).\n",
    "\n",
    "- You can often **simplify nested conditions** by combining conditions using logical operators (`and`, `or`), or by using `elif` instead of nesting multiple `if` statements.\n"
   ]
  }
 ],
 "metadata": {
  "kernelspec": {
   "display_name": "Python 3 (ipykernel)",
   "language": "python",
   "name": "python3"
  },
  "language_info": {
   "codemirror_mode": {
    "name": "ipython",
    "version": 3
   },
   "file_extension": ".py",
   "mimetype": "text/x-python",
   "name": "python",
   "nbconvert_exporter": "python",
   "pygments_lexer": "ipython3",
   "version": "3.11.2"
  }
 },
 "nbformat": 4,
 "nbformat_minor": 5
}
