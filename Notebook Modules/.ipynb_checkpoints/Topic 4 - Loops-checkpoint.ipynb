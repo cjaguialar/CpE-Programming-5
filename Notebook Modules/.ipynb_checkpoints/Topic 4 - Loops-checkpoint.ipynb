{
 "cells": [
  {
   "cell_type": "markdown",
   "id": "bca04dbc-997b-4cce-8c77-aee371e61bce",
   "metadata": {},
   "source": [
    "# Programming 5 - Python Programming"
   ]
  },
  {
   "cell_type": "markdown",
   "id": "39360191-7773-4453-8dde-c33cbc2695a7",
   "metadata": {},
   "source": [
    "# Loops in Python\n",
    "\n",
    "## 🎯 Learning Objectives\n",
    "- Understand how to use `for` and `while` loops.\n",
    "- Learn when and why to use loops.\n",
    "- Implement `break` and `continue`.\n",
    "- Handle nested loops.\n",
    "  \n",
    "## ✅ What are Loops?\n",
    "Loops are programming structures that repeat a block of code multiple times. They are used to automate repetitive tasks without writing the same code over and over.\n",
    "\n",
    "---\n",
    "\n",
    "## ✅ Why Do We Use Loops?\n",
    "\n",
    "1. **Automation**  \n",
    "   Perform repetitive tasks automatically, such as printing numbers, processing data, or sending notifications.\n",
    "\n",
    "2. **Efficiency**  \n",
    "   Loops reduce the amount of code you need to write. One loop can handle thousands of repetitive actions.\n",
    "\n",
    "3. **Dynamic Tasks**  \n",
    "   Loops work with different amounts of data, so they are useful when you don't know beforehand how many times an action will repeat (e.g., user input, file lines).\n",
    "\n",
    "---\n",
    "\n",
    "## ✅ Types of Loops in Python\n",
    "\n",
    "| Loop Type  | Use When...                                           |\n",
    "|------------|-------------------------------------------------------|\n",
    "| `for` loop | You know how many times you want to repeat something. |\n",
    "| `while` loop | You want to repeat something until a condition changes. |\n",
    "\n",
    "---\n",
    "\n",
    "## ✅ Where Do We Need Loops?\n",
    "\n",
    "1. **Processing Lists and Collections**  \n",
    "   Example: Loop through a list of students and print their names.\n",
    "   \n",
    "2. **Repetitive Calculations**  \n",
    "   Example: Calculate the sum of the first 100 numbers.\n",
    "\n",
    "3. **Data Validation**  \n",
    "   Example: Ask the user to enter valid input until they get it right.\n",
    "\n",
    "4. **Games and Simulations**  \n",
    "   Example: Keep a game running until the player quits.\n",
    "\n",
    "5. **File Handling**  \n",
    "   Example: Read each line of a file and process it.\n",
    "\n",
    "6. **Generating Patterns**  \n",
    "   Example: Create star (`*`) patterns or tables.\n",
    "\n",
    "---"
   ]
  },
  {
   "cell_type": "markdown",
   "id": "a6a05687-5bcc-4369-ba5e-2fca65a54fcd",
   "metadata": {},
   "source": [
    "### ✅ Problem 1  \n",
    "**Task:** Print numbers from 1 to 5."
   ]
  },
  {
   "cell_type": "code",
   "execution_count": 1,
   "id": "d4468a63-72e7-4900-bddb-d971718d0b1d",
   "metadata": {},
   "outputs": [
    {
     "name": "stdout",
     "output_type": "stream",
     "text": [
      "1\n",
      "2\n",
      "3\n",
      "4\n",
      "5\n"
     ]
    }
   ],
   "source": [
    "for i in range(1, 6):\n",
    "    print(i)"
   ]
  },
  {
   "cell_type": "markdown",
   "id": "520d264a-205a-4b23-9ed7-1ac25a39720d",
   "metadata": {},
   "source": [
    "**Explanation:**\n",
    "\n",
    "- Repeats `print(i)` five times automatically.\n",
    "- Saves time and avoids writing multiple `print()` lines.\n"
   ]
  },
  {
   "cell_type": "markdown",
   "id": "3c47bcc4-ad44-4f5f-8900-eaf6f310b588",
   "metadata": {},
   "source": [
    "### ✅ Problem 2  \n",
    "**Task:** Print the square of numbers from 1 to 5 for a math tutorial."
   ]
  },
  {
   "cell_type": "code",
   "execution_count": 2,
   "id": "b23567fe-509c-4ae6-9e9f-30be9725f038",
   "metadata": {},
   "outputs": [
    {
     "name": "stdout",
     "output_type": "stream",
     "text": [
      "The square of 1 is 1\n",
      "The square of 2 is 4\n",
      "The square of 3 is 9\n",
      "The square of 4 is 16\n",
      "The square of 5 is 25\n"
     ]
    }
   ],
   "source": [
    "for num in range(1, 6):\n",
    "    print(f\"The square of {num} is {num ** 2}\")"
   ]
  },
  {
   "cell_type": "markdown",
   "id": "6b7f7b01-9d55-4da0-bd65-703f2eb838ce",
   "metadata": {},
   "source": [
    "**Explanation:**\n",
    "\n",
    "- `num ** 2` calculates the square of the current number in the loop.\n",
    "- `f-string` formats the output, combining text and the result in a readable way.\n"
   ]
  },
  {
   "cell_type": "markdown",
   "id": "eaec944e-c407-43bc-a794-874b853470dc",
   "metadata": {},
   "source": [
    "### ✅ Problem 3  \n",
    "**Task:** Display all characters in a student's name.\n"
   ]
  },
  {
   "cell_type": "code",
   "execution_count": 3,
   "id": "767c08f8-4779-4eff-9d80-a9508fa9e91a",
   "metadata": {},
   "outputs": [
    {
     "name": "stdout",
     "output_type": "stream",
     "text": [
      "J\n",
      "a\n",
      "y\n",
      "s\n",
      "o\n",
      "n\n"
     ]
    }
   ],
   "source": [
    "name = \"Jayson\"\n",
    "for letter in name:\n",
    "    print(letter)"
   ]
  },
  {
   "cell_type": "markdown",
   "id": "2487308e-909f-42ca-a069-02f55f954bb5",
   "metadata": {},
   "source": [
    "**Explanation:**\n",
    "\n",
    "- The `for` loop iterates through each character in the string `name`.\n",
    "- On every iteration, `letter` holds the current character from the string.\n",
    "- `print(letter)` displays each letter one by one on a new line.\n",
    "- This is useful for tasks such as text processing, validating characters, or simple animations.\n"
   ]
  },
  {
   "cell_type": "markdown",
   "id": "05ef1a76-6b9c-4ea4-8eda-469f42b870a1",
   "metadata": {},
   "source": [
    "### ✅  Problem 4  \n",
    "**Task:** Create a program to calculate the sum of numbers from 1 to 100 for a totalizer.\n"
   ]
  },
  {
   "cell_type": "code",
   "execution_count": 5,
   "id": "d1d544ad-5c24-4152-824f-90a649353765",
   "metadata": {},
   "outputs": [
    {
     "name": "stdout",
     "output_type": "stream",
     "text": [
      "The total sum is 5050\n"
     ]
    }
   ],
   "source": [
    "total = 0\n",
    "for num in range(1, 101):\n",
    "    total += num\n",
    "print(f\"The total sum is {total}\")"
   ]
  },
  {
   "cell_type": "markdown",
   "id": "4c2eac4d-065a-4d04-9ab2-6a8eac2e4716",
   "metadata": {},
   "source": [
    "**Explanation:**\n",
    "\n",
    "- `total` is initialized with the value `0` before starting the loop.\n",
    "- The `for` loop iterates through numbers from `1` to `100` using `range(1, 101)`.\n",
    "- On each iteration, the current number `num` is added to `total` using the `+=` operator.\n",
    "- After the loop finishes, `print(f\"The total sum is {total}\")` displays the final accumulated value.\n",
    "- This type of summation is common in tasks like calculating totals, scores, or aggregating data.\n"
   ]
  },
  {
   "cell_type": "markdown",
   "id": "71e4da3a-5e25-46f7-b48d-95848ee22775",
   "metadata": {},
   "source": [
    "### ✅ Problem 5  \n",
    "**Task:** You need a program that displays all even numbers between 1 and 20 for a math worksheet generator.\n"
   ]
  },
  {
   "cell_type": "code",
   "execution_count": 6,
   "id": "2cca8efa-fbae-4084-a1a3-3e10aac3394e",
   "metadata": {},
   "outputs": [
    {
     "name": "stdout",
     "output_type": "stream",
     "text": [
      "2\n",
      "4\n",
      "6\n",
      "8\n",
      "10\n",
      "12\n",
      "14\n",
      "16\n",
      "18\n",
      "20\n"
     ]
    }
   ],
   "source": [
    "for num in range(1, 21):\n",
    "    if num % 2 == 0:\n",
    "        print(num)"
   ]
  },
  {
   "cell_type": "markdown",
   "id": "04663573-e6fc-488a-bc5f-81aed30e451a",
   "metadata": {},
   "source": [
    "**Explanation:**\n",
    "\n",
    "- The `for` loop iterates through numbers from `1` to `20` using `range(1, 21)`.\n",
    "- Inside the loop, the condition `num % 2 == 0` checks if the current number is divisible by `2`.\n",
    "- If the condition is `True`, it means the number is even, and `print(num)` displays it.\n",
    "- Odd numbers are automatically skipped because they don't satisfy the `if` condition.\n",
    "- This technique is useful for generating sequences of numbers that meet specific criteria, such as filtering even or odd numbers in math exercises.\n",
    "---"
   ]
  },
  {
   "cell_type": "markdown",
   "id": "70ac3215-85d5-4171-a47f-f2350723c5f6",
   "metadata": {},
   "source": [
    "## 🔹 Topic 2: `while` Loops\n",
    "\n",
    "✅ **Explanation:**\n",
    "\n",
    "- A `while` loop repeats a block of code as long as a specified **condition** is `True`.\n",
    "- It is often used when the number of repetitions is **unknown** and depends on a **condition** evaluated during runtime.\n",
    "- If the condition is `False` at the start, the loop body will **not execute** even once.\n",
    "\n",
    "✅ **Basic Syntax:**\n",
    "```python\n",
    "while condition:\n",
    "    # code block to execute\n",
    "```\n",
    "\n",
    "✅ **How It Works:**\n",
    "\n",
    "- The condition is checked before the code inside the loop runs.\n",
    "- If the condition is `True`, the code inside the loop executes.\n",
    "- After each iteration, the condition is checked again.\n",
    "- When the condition becomes `False`, the loop stops.\n",
    "\n",
    "✅ **Key Points:**\n",
    "\n",
    "- Be careful to update the condition inside the loop to avoid infinite loops.\n",
    "- Ideal for scenarios where repetition depends on user input or a changing value.\n",
    "\n",
    "---"
   ]
  },
  {
   "cell_type": "markdown",
   "id": "1d2ef366-81d7-43e3-bfdd-55b776e23984",
   "metadata": {},
   "source": [
    "### ✅ Problem 1  \n",
    "**Task:** Print numbers from 1 to 5 for a simple counter.\n"
   ]
  },
  {
   "cell_type": "code",
   "execution_count": 8,
   "id": "7e763290-cc14-4afa-850f-588ae0f2d228",
   "metadata": {},
   "outputs": [
    {
     "name": "stdout",
     "output_type": "stream",
     "text": [
      "1\n",
      "2\n",
      "3\n",
      "4\n",
      "5\n"
     ]
    }
   ],
   "source": [
    "num = 1\n",
    "while num <= 5:\n",
    "    print(num)\n",
    "    num += 1"
   ]
  },
  {
   "cell_type": "markdown",
   "id": "cc26752e-a834-4c21-ab99-5185705134da",
   "metadata": {},
   "source": [
    "**Explanation:**\n",
    "\n",
    "- `num` is initialized to `1`.\n",
    "- The `while` loop runs as long as `num <= 5` is `True`.\n",
    "- On every iteration, `print(num)` displays the current number.\n",
    "- `num += 1` increments the number by `1` to eventually end the loop.\n",
    "- This example demonstrates a basic counting mechanism using a `while` loop."
   ]
  },
  {
   "cell_type": "markdown",
   "id": "c21ac33c-38d8-4e66-be3d-143895b7ebe5",
   "metadata": {},
   "source": [
    "### ✅ Problem 2  \n",
    "**Task:** Ask the user for a password until they enter the correct one."
   ]
  },
  {
   "cell_type": "code",
   "execution_count": 10,
   "id": "cbd59a2f-ad00-493d-aa60-d4e65d594e7f",
   "metadata": {},
   "outputs": [
    {
     "name": "stdin",
     "output_type": "stream",
     "text": [
      "Enter password:  qwe\n"
     ]
    },
    {
     "name": "stdout",
     "output_type": "stream",
     "text": [
      "Incorrect! Try again.\n"
     ]
    },
    {
     "name": "stdin",
     "output_type": "stream",
     "text": [
      "Enter password:  qwe\n"
     ]
    },
    {
     "name": "stdout",
     "output_type": "stream",
     "text": [
      "Incorrect! Try again.\n"
     ]
    },
    {
     "name": "stdin",
     "output_type": "stream",
     "text": [
      "Enter password:  python123\n"
     ]
    },
    {
     "name": "stdout",
     "output_type": "stream",
     "text": [
      "Access granted.\n"
     ]
    }
   ],
   "source": [
    "correct_password = \"python123\"\n",
    "password = input(\"Enter password: \")\n",
    "\n",
    "while password != correct_password:\n",
    "    print(\"Incorrect! Try again.\")\n",
    "    password = input(\"Enter password: \")\n",
    "\n",
    "print(\"Access granted.\")"
   ]
  },
  {
   "cell_type": "markdown",
   "id": "38e58b8d-26c1-4507-843d-e9abe89789eb",
   "metadata": {},
   "source": [
    "**Explanation:**\n",
    "\n",
    "- The variable `correct_password` holds the valid password (`\"python123\"`).\n",
    "- The program asks the user to input a password.\n",
    "- The `while` loop continues running as long as the user input `password` is not equal to `correct_password`.\n",
    "- If the user enters the wrong password, it prompts them to try again.\n",
    "- When the user inputs the correct password, the loop condition becomes `False`, and it exits.\n",
    "- After exiting the loop, the program prints `\"Access granted.\"`.\n",
    "- This kind of loop is useful for user authentication or repeated input validation.\n"
   ]
  },
  {
   "cell_type": "markdown",
   "id": "be62480c-ec63-46e7-b297-2bd8d53d46fd",
   "metadata": {},
   "source": [
    "### ✅ Problem 3  \n",
    "**Task:** Print numbers from 10 to 1 in reverse order for a countdown timer."
   ]
  },
  {
   "cell_type": "code",
   "execution_count": 11,
   "id": "5cebaef6-1a7e-49d0-b98d-835386332788",
   "metadata": {},
   "outputs": [
    {
     "name": "stdout",
     "output_type": "stream",
     "text": [
      "10\n",
      "9\n",
      "8\n",
      "7\n",
      "6\n",
      "5\n",
      "4\n",
      "3\n",
      "2\n",
      "1\n"
     ]
    }
   ],
   "source": [
    "num = 10\n",
    "while num >= 1:\n",
    "    print(num)\n",
    "    num -= 1"
   ]
  },
  {
   "cell_type": "markdown",
   "id": "fb0bbf7c-34dc-457c-8a83-70bc18bfe2a8",
   "metadata": {},
   "source": [
    "**Explanation:**\n",
    "\n",
    "- The variable `num` is initialized with the value `10`.\n",
    "- The `while` loop runs as long as `num >= 1` is `True`.\n",
    "- On each iteration, `print(num)` displays the current number.\n",
    "- `num -= 1` decreases the value of `num` by `1` after every iteration.\n",
    "- The loop stops when `num` becomes less than `1`.\n",
    "- This example demonstrates how to create a countdown, which is useful for timers or game starting sequences.\n"
   ]
  },
  {
   "cell_type": "markdown",
   "id": "28c1666a-e498-4316-93e5-a86b01ee18bb",
   "metadata": {},
   "source": [
    "### ✅ Problem 4  \n",
    "**Task:** Accumulate numbers entered by the user until they type `0`."
   ]
  },
  {
   "cell_type": "code",
   "execution_count": 12,
   "id": "f4e0873f-6f0b-41e6-a733-d744737ef76d",
   "metadata": {},
   "outputs": [
    {
     "name": "stdin",
     "output_type": "stream",
     "text": [
      "Enter a number (0 to quit):  12\n",
      "Enter another number (0 to quit):  2\n",
      "Enter another number (0 to quit):  1\n",
      "Enter another number (0 to quit):  0\n"
     ]
    },
    {
     "name": "stdout",
     "output_type": "stream",
     "text": [
      "The total sum is 15\n"
     ]
    }
   ],
   "source": [
    "total = 0\n",
    "num = int(input(\"Enter a number (0 to quit): \"))\n",
    "\n",
    "while num != 0:\n",
    "    total += num\n",
    "    num = int(input(\"Enter another number (0 to quit): \"))\n",
    "\n",
    "print(f\"The total sum is {total}\")"
   ]
  },
  {
   "cell_type": "markdown",
   "id": "c2553eb5-b94c-42e1-a77b-bbbc9aa0c2c0",
   "metadata": {},
   "source": [
    "**Explanation:**\n",
    "\n",
    "- The variable `total` is initialized to `0` to store the sum of the numbers.\n",
    "- The user is prompted to enter a number, which is stored in `num`.\n",
    "- The `while` loop continues as long as the user input `num` is not equal to `0`.\n",
    "- Inside the loop, `total += num` adds the entered number to the total.\n",
    "- After each entry, the user is prompted again to enter another number.\n",
    "- If the user inputs `0`, the condition becomes `False` and the loop ends.\n",
    "- Finally, the program displays the total sum of all entered numbers.\n",
    "- This loop is commonly used for data collection, calculators, or accumulating values until a stopping condition is met.\n"
   ]
  },
  {
   "cell_type": "markdown",
   "id": "f363d41a-bb4a-4104-8eca-b405833c0ddb",
   "metadata": {},
   "source": [
    "### ✅ Problem 5  \n",
    "**Scenario:** Simulate a countdown timer from a user-defined start number."
   ]
  },
  {
   "cell_type": "code",
   "execution_count": 13,
   "id": "40675295-7200-42d1-8d51-1d8a750910e3",
   "metadata": {},
   "outputs": [
    {
     "name": "stdin",
     "output_type": "stream",
     "text": [
      "Enter countdown start number:  3\n"
     ]
    },
    {
     "name": "stdout",
     "output_type": "stream",
     "text": [
      "3\n",
      "2\n",
      "1\n",
      "Time's up!\n"
     ]
    }
   ],
   "source": [
    "start = int(input(\"Enter countdown start number: \"))\n",
    "\n",
    "while start > 0:\n",
    "    print(start)\n",
    "    start -= 1\n",
    "\n",
    "print(\"Time's up!\")"
   ]
  },
  {
   "cell_type": "markdown",
   "id": "270b5c9e-c82d-4462-bd00-c63b1bd7d014",
   "metadata": {},
   "source": [
    "**Explanation:**\n",
    "\n",
    "- The program prompts the user to enter the starting number for the countdown, which is stored in `start`.\n",
    "- The `while` loop runs as long as `start` is greater than `0`.\n",
    "- On each iteration, `print(start)` displays the current countdown number.\n",
    "- `start -= 1` decreases the value of `start` by `1` after each iteration.\n",
    "- The loop stops when `start` becomes `0` or less.\n",
    "- After the countdown finishes, the program displays `\"Time's up!\"`.\n",
    "- This type of loop is often used in timers, game countdowns, or delay mechanisms.\n",
    "---"
   ]
  },
  {
   "cell_type": "markdown",
   "id": "ff4d9185-4edb-40ca-919a-1a95936e7bae",
   "metadata": {},
   "source": [
    "## 🔹 Topic 3: `break` Statement\n",
    "\n",
    "✅ Explanation:\n",
    "- The `break` statement is used to **immediately exit** a loop, regardless of the loop’s original condition.\n",
    "- It is commonly used when a certain **condition is met**, and there is no need to continue looping.\n",
    "- `break` works in both `for` and `while` loops.\n",
    "\n",
    "✅ Basic Syntax:\n",
    "```python\n",
    "for item in iterable:\n",
    "    if condition:\n",
    "        break\n",
    "        \n",
    "while condition:\n",
    "    if condition_to_exit:\n",
    "        break\n",
    "```\n",
    "\n",
    "✅ **How It Works:**\n",
    "\n",
    "- The loop begins execution as usual.\n",
    "- When the program encounters a `break` statement inside the loop, it immediately stops the loop.\n",
    "- Control is passed to the first statement after the loop.\n",
    "- If no `break` is encountered, the loop runs normally until its condition becomes `False` (or the iteration ends in `for`).\n",
    "\n",
    "✅ **Key Points:**\n",
    "\n",
    "- `break` only exits the **innermost loop** it is placed in.\n",
    "- Commonly used for:\n",
    "  - **Terminating loops early** based on conditions.\n",
    "  - **Searching** for a target element in a collection.\n",
    "  - **User input validation** when a stopping condition is met.\n",
    "- Can help avoid unnecessary iterations, making loops more efficient.\n",
    "- Overusing `break` may make code harder to read, so use it thoughtfully.\n",
    "\n",
    "---"
   ]
  },
  {
   "cell_type": "markdown",
   "id": "5adba625-2766-43aa-a1c9-85fa7aa63898",
   "metadata": {},
   "source": [
    "### ✅ Problem 1  \n",
    "**Task:** Stop printing numbers when 5 is reached."
   ]
  },
  {
   "cell_type": "code",
   "execution_count": 17,
   "id": "77339c29-055b-4d3b-81af-8a99ac72535b",
   "metadata": {},
   "outputs": [
    {
     "name": "stdout",
     "output_type": "stream",
     "text": [
      "1\n",
      "2\n",
      "3\n",
      "4\n"
     ]
    }
   ],
   "source": [
    "for num in range(1, 11):\n",
    "    if num == 5:\n",
    "        break\n",
    "    print(num)"
   ]
  },
  {
   "cell_type": "markdown",
   "id": "403f1acb-5652-4139-a6f1-8b041893a8d5",
   "metadata": {},
   "source": [
    "**Explanation:**\n",
    "\n",
    "- The `for` loop iterates numbers from `1` to `10`.\n",
    "- Inside the loop, the condition `if num == 5` checks if the current number is `5`.\n",
    "- If the condition is `True`, `break` exits the loop immediately.\n",
    "- As a result, numbers `1` to `4` are printed, but `5` and beyond are skipped.\n",
    "- This pattern is useful when you need to terminate a loop early based on a condition.\n"
   ]
  },
  {
   "cell_type": "markdown",
   "id": "1d089f0f-3049-418c-853b-3b20d2882be4",
   "metadata": {},
   "source": [
    "### ✅ Situational Problem 2  \n",
    "**task:** Ask users to enter numbers and break when they enter a negative number.\n"
   ]
  },
  {
   "cell_type": "code",
   "execution_count": 18,
   "id": "f6e7d4bc-07ae-490c-8b09-d7efcdda70a8",
   "metadata": {},
   "outputs": [
    {
     "name": "stdin",
     "output_type": "stream",
     "text": [
      "Enter a positive number (negative to quit):  23\n"
     ]
    },
    {
     "name": "stdout",
     "output_type": "stream",
     "text": [
      "You entered: 23\n"
     ]
    },
    {
     "name": "stdin",
     "output_type": "stream",
     "text": [
      "Enter a positive number (negative to quit):  -1\n"
     ]
    },
    {
     "name": "stdout",
     "output_type": "stream",
     "text": [
      "Negative number detected. Exiting.\n"
     ]
    }
   ],
   "source": [
    "while True:\n",
    "    num = int(input(\"Enter a positive number (negative to quit): \"))\n",
    "    if num < 0:\n",
    "        print(\"Negative number detected. Exiting.\")\n",
    "        break\n",
    "    print(f\"You entered: {num}\")"
   ]
  },
  {
   "cell_type": "markdown",
   "id": "892e9d21-1e3c-461a-9d5a-e7eab2d7b689",
   "metadata": {},
   "source": [
    "**Explanation:**\n",
    "\n",
    "- `while True:` creates an infinite loop that will keep asking the user for input.\n",
    "- The user is prompted to enter a number, which is stored in `num`.\n",
    "- The condition `if num < 0` checks whether the entered number is negative.\n",
    "- If the condition is `True`, `break` exits the loop immediately, and `\"Negative number detected. Exiting.\"` is printed.\n",
    "- If the number is positive, it displays the entered number with `print(f\"You entered: {num}\")`.\n",
    "- This structure is useful for input validation or continuous input collection, stopping only when the user provides a specific value.\n"
   ]
  },
  {
   "cell_type": "markdown",
   "id": "142407b6-f276-4c3c-924d-7a44654ac8eb",
   "metadata": {},
   "source": [
    "### ✅ Problem 3  \n",
    "**Task:** Search for a specific number in a list and stop when found."
   ]
  },
  {
   "cell_type": "code",
   "execution_count": 20,
   "id": "f9515373-4610-4ae8-af48-adda484a13ee",
   "metadata": {},
   "outputs": [
    {
     "name": "stdout",
     "output_type": "stream",
     "text": [
      "Found the target number!\n"
     ]
    }
   ],
   "source": [
    "numbers = [4, 7, 10, 5, 2, 8]\n",
    "target = 5\n",
    "\n",
    "for num in numbers:\n",
    "    if num == target:\n",
    "        print(\"Found the target number!\")\n",
    "        break"
   ]
  },
  {
   "cell_type": "markdown",
   "id": "8f387eed-be7b-4cb9-a60a-490324ab99e5",
   "metadata": {},
   "source": [
    "**Explanation:**\n",
    "\n",
    "- The `for` loop iterates through each element in the `numbers` list.\n",
    "- The condition `if num == target` checks if the current element matches the target number (`5`).\n",
    "- If the condition is `True`, it prints `\"Found the target number!\"` and immediately exits the loop using `break`.\n",
    "- Once the target is found and the loop is broken, no further numbers are checked.\n",
    "- This technique is commonly used in search operations, where you want to stop processing once a match is found, saving time and resources.\n"
   ]
  },
  {
   "cell_type": "markdown",
   "id": "32aa0426-fdc7-44a2-b89d-2af61e88a788",
   "metadata": {},
   "source": [
    "### ✅ Problem 4  \n",
    "**Task:** ATM simulation - stop after 3 incorrect PIN attempts."
   ]
  },
  {
   "cell_type": "code",
   "execution_count": 24,
   "id": "138b68a4-0aac-4771-9d84-fdd96778a678",
   "metadata": {},
   "outputs": [
    {
     "name": "stdin",
     "output_type": "stream",
     "text": [
      "Enter your PIN:  5\n"
     ]
    },
    {
     "name": "stdout",
     "output_type": "stream",
     "text": [
      "Incorrect PIN.\n"
     ]
    },
    {
     "name": "stdin",
     "output_type": "stream",
     "text": [
      "Enter your PIN:  4\n"
     ]
    },
    {
     "name": "stdout",
     "output_type": "stream",
     "text": [
      "Incorrect PIN.\n"
     ]
    },
    {
     "name": "stdin",
     "output_type": "stream",
     "text": [
      "Enter your PIN:  2\n"
     ]
    },
    {
     "name": "stdout",
     "output_type": "stream",
     "text": [
      "Incorrect PIN.\n",
      "Card locked due to too many failed attempts.\n"
     ]
    }
   ],
   "source": [
    "### correct_pin = \"1234\"\n",
    "attempts = 0\n",
    "\n",
    "while attempts < 3:\n",
    "    pin = input(\"Enter your PIN: \")\n",
    "    if pin == correct_pin:\n",
    "        print(\"Access granted.\")\n",
    "        break\n",
    "    else:\n",
    "        print(\"Incorrect PIN.\")\n",
    "        attempts += 1\n",
    "\n",
    "if attempts == 3:\n",
    "    print(\"Card locked due to too many failed attempts.\")"
   ]
  },
  {
   "cell_type": "markdown",
   "id": "c6382afc-28dc-4074-b8d4-3181ed639a56",
   "metadata": {},
   "source": [
    "**Explanation:**\n",
    "\n",
    "- The variable `correct_pin` holds the valid PIN (`\"1234\"`), and `attempts` tracks the number of tries.\n",
    "- The `while` loop runs as long as `attempts` is less than `3`.\n",
    "- The user is prompted to enter their PIN inside the loop.\n",
    "- If the entered `pin` matches the `correct_pin`, it prints `\"Access granted.\"` and exits the loop using `break`.\n",
    "- If the entered PIN is incorrect, it prints `\"Incorrect PIN.\"` and increases the `attempts` count by `1`.\n",
    "- After the loop ends, it checks if the user has made 3 failed attempts. If so, it prints `\"Card locked due to too many failed attempts.\"`.\n",
    "- This is a common security pattern used in authentication systems to limit the number of incorrect login attempts.\n"
   ]
  },
  {
   "cell_type": "markdown",
   "id": "c21d7e07-116f-4127-84cb-78f485c602ee",
   "metadata": {},
   "source": [
    "### ✅ Problem 5  \n",
    "**Task:** Exit a menu loop when the user selects \"Exit\".\n"
   ]
  },
  {
   "cell_type": "code",
   "execution_count": 26,
   "id": "9117aec9-d32b-4957-af5c-8779def7fc67",
   "metadata": {},
   "outputs": [
    {
     "name": "stdout",
     "output_type": "stream",
     "text": [
      "1. Check Balance\n",
      "2. Deposit\n",
      "3. Exit\n"
     ]
    },
    {
     "name": "stdin",
     "output_type": "stream",
     "text": [
      "Enter your choice:  1\n"
     ]
    },
    {
     "name": "stdout",
     "output_type": "stream",
     "text": [
      "You selected option 1\n",
      "1. Check Balance\n",
      "2. Deposit\n",
      "3. Exit\n"
     ]
    },
    {
     "name": "stdin",
     "output_type": "stream",
     "text": [
      "Enter your choice:  2\n"
     ]
    },
    {
     "name": "stdout",
     "output_type": "stream",
     "text": [
      "You selected option 2\n",
      "1. Check Balance\n",
      "2. Deposit\n",
      "3. Exit\n"
     ]
    },
    {
     "name": "stdin",
     "output_type": "stream",
     "text": [
      "Enter your choice:  3\n"
     ]
    },
    {
     "name": "stdout",
     "output_type": "stream",
     "text": [
      "Exiting menu.\n"
     ]
    }
   ],
   "source": [
    "while True:\n",
    "    print(\"1. Check Balance\\n2. Deposit\\n3. Exit\")\n",
    "    choice = input(\"Enter your choice: \")\n",
    "\n",
    "    if choice == \"3\":\n",
    "        print(\"Exiting menu.\")\n",
    "        break\n",
    "    else:\n",
    "        print(f\"You selected option {choice}\")"
   ]
  },
  {
   "cell_type": "markdown",
   "id": "c9979143-8bef-4beb-8844-940906160a3a",
   "metadata": {},
   "source": [
    "**Explanation:**\n",
    "\n",
    "- `while True:` creates an infinite loop to continuously display the menu options.\n",
    "- The user is prompted to make a choice by entering a number.\n",
    "- The `if choice == \"3\"` condition checks if the user selected the exit option.\n",
    "- If the condition is `True`, it prints `\"Exiting menu.\"` and exits the loop using `break`.\n",
    "- Otherwise, it prints the selected option and returns to display the menu again.\n",
    "- This structure is commonly used in menu-driven programs, where the program loops until the user chooses to exit.\n",
    "---"
   ]
  },
  {
   "cell_type": "markdown",
   "id": "4f90e3c1-3409-488c-b12d-1f05a035848d",
   "metadata": {},
   "source": [
    "## 🔹 Topic 4: `continue` Statement\n",
    "\n",
    "✅ **Explanation:**\n",
    "- The `continue` statement is used to **skip the rest of the code** inside the current loop iteration and move directly to the **next iteration**.\n",
    "- It is useful when you want to **ignore specific cases** within a loop without exiting the entire loop.\n",
    "- `continue` works in both `for` and `while` loops.\n",
    "\n",
    "✅ **Basic Syntax:**\n",
    "```python\n",
    "for item in iterable:\n",
    "    if condition:\n",
    "        continue\n",
    "    # Code that runs only when condition is False\n",
    "\n",
    "while condition:\n",
    "    if condition_to_skip:\n",
    "        continue\n",
    "    # Code that runs only when condition_to_skip is False\n",
    "```\n",
    "✅ **How It Works:**\n",
    "\n",
    "- The loop starts and evaluates its condition (for `while`) or iterates over a collection (for `for`).\n",
    "- When the `continue` statement is executed, the remaining code inside the loop is skipped for the current iteration.\n",
    "- The loop then proceeds to the next iteration.\n",
    "- If `continue` is never triggered, the loop runs as usual.\n",
    "\n",
    "✅ **Key Points:**\n",
    "\n",
    "- `continue` only affects the **current iteration** of the loop.\n",
    "- It’s useful for:\n",
    "  - **Skipping specific items** in a collection.\n",
    "  - **Ignoring invalid input** or cases in data processing.\n",
    "  - **Skipping steps** in repetitive tasks.\n",
    "- Overusing `continue` can make loops harder to understand, so use it for **clear and specific conditions**.\n",
    "---\n"
   ]
  },
  {
   "cell_type": "markdown",
   "id": "821e1b63-54f3-4ecb-b532-49ae600ce89a",
   "metadata": {},
   "source": [
    "### ✅ Problem 1  \n",
    "**Task:** Print odd numbers from 1 to 10, skipping even numbers."
   ]
  },
  {
   "cell_type": "code",
   "execution_count": 27,
   "id": "5ee317a3-99a6-42c3-b649-aafcb18fbdc8",
   "metadata": {},
   "outputs": [
    {
     "name": "stdout",
     "output_type": "stream",
     "text": [
      "1\n",
      "3\n",
      "5\n",
      "7\n",
      "9\n"
     ]
    }
   ],
   "source": [
    "for num in range(1, 11):\n",
    "    if num % 2 == 0:\n",
    "        continue\n",
    "    print(num)"
   ]
  },
  {
   "cell_type": "markdown",
   "id": "15fd916d-8cce-4992-8dbc-86ec2e263a2b",
   "metadata": {},
   "source": [
    "**Explanation:**\n",
    "\n",
    "- The `for` loop iterates numbers from `1` to `10`.\n",
    "- The condition `if num % 2 == 0` checks if the number is even.\n",
    "- If the condition is `True` (it's an even number), the `continue` statement skips the `print(num)` line and moves to the next iteration.\n",
    "- As a result, only odd numbers are printed because even numbers are skipped.\n",
    "- This approach is useful when you want to ignore specific values in a loop based on a condition.\n"
   ]
  },
  {
   "cell_type": "markdown",
   "id": "08f5c2ed-e291-41cf-a418-364c93d5bd26",
   "metadata": {},
   "source": [
    "### ✅ Problem 2  \n",
    "**Task:** Skip printing numbers divisible by 3 from 1 to 10."
   ]
  },
  {
   "cell_type": "code",
   "execution_count": 28,
   "id": "ecb5d5c3-73d6-49a8-a258-08c62b57b63b",
   "metadata": {},
   "outputs": [
    {
     "name": "stdout",
     "output_type": "stream",
     "text": [
      "1\n",
      "2\n",
      "4\n",
      "5\n",
      "7\n",
      "8\n",
      "10\n"
     ]
    }
   ],
   "source": [
    "for num in range(1, 11):\n",
    "    if num % 3 == 0:\n",
    "        continue\n",
    "    print(num)"
   ]
  },
  {
   "cell_type": "markdown",
   "id": "001f2188-f20b-46d1-8205-511dc7f39973",
   "metadata": {},
   "source": [
    "**Explanation:**\n",
    "\n",
    "- The `for` loop iterates numbers from `1` to `10`.\n",
    "- The condition `if num % 3 == 0` checks if the current number is divisible by `3`.\n",
    "- If the condition is `True`, the `continue` statement skips the `print(num)` line and moves to the next iteration.\n",
    "- As a result, numbers that are divisible by `3` (such as 3, 6, and 9) are not printed.\n",
    "- This pattern is useful when filtering out unwanted values in a sequence.\n"
   ]
  },
  {
   "cell_type": "markdown",
   "id": "2d8c9786-888c-4416-987e-9cd2e1db05c6",
   "metadata": {},
   "source": [
    "### ✅ Problem 3  \n",
    "**Task:** Ask 5 users for their age but skip those who input an age below 0."
   ]
  },
  {
   "cell_type": "code",
   "execution_count": 31,
   "id": "8da24030-c3cc-41e2-b12d-90e77993d071",
   "metadata": {},
   "outputs": [
    {
     "name": "stdin",
     "output_type": "stream",
     "text": [
      "Enter your age:  5\n"
     ]
    },
    {
     "name": "stdout",
     "output_type": "stream",
     "text": [
      "Recorded age: 5\n"
     ]
    },
    {
     "name": "stdin",
     "output_type": "stream",
     "text": [
      "Enter your age:  -1\n"
     ]
    },
    {
     "name": "stdout",
     "output_type": "stream",
     "text": [
      "Invalid age! Skipping...\n"
     ]
    },
    {
     "name": "stdin",
     "output_type": "stream",
     "text": [
      "Enter your age:  5\n"
     ]
    },
    {
     "name": "stdout",
     "output_type": "stream",
     "text": [
      "Recorded age: 5\n"
     ]
    },
    {
     "name": "stdin",
     "output_type": "stream",
     "text": [
      "Enter your age:  2\n"
     ]
    },
    {
     "name": "stdout",
     "output_type": "stream",
     "text": [
      "Recorded age: 2\n"
     ]
    },
    {
     "name": "stdin",
     "output_type": "stream",
     "text": [
      "Enter your age:  1\n"
     ]
    },
    {
     "name": "stdout",
     "output_type": "stream",
     "text": [
      "Recorded age: 1\n"
     ]
    }
   ],
   "source": [
    "for i in range(5):\n",
    "    age = int(input(\"Enter your age: \"))\n",
    "    if age < 0:\n",
    "        print(\"Invalid age! Skipping...\")\n",
    "        continue\n",
    "    print(f\"Recorded age: {age}\")"
   ]
  },
  {
   "cell_type": "markdown",
   "id": "fc900d32-2198-4da4-9e3b-99314d853d58",
   "metadata": {},
   "source": [
    "**Explanation:**\n",
    "\n",
    "- The `for` loop runs 5 times, allowing input from 5 users.\n",
    "- On each iteration, the user is prompted to enter their age.\n",
    "- The condition `if age < 0` checks if the entered age is negative.\n",
    "- If the condition is `True`, it prints `\"Invalid age! Skipping...\"` and `continue` skips recording that age.\n",
    "- If the age is valid (0 or above), it prints `\"Recorded age: {age}\"`.\n",
    "- This approach is useful for validating user input and skipping over invalid entries without stopping the loop.\n"
   ]
  },
  {
   "cell_type": "markdown",
   "id": "3fff9418-2f34-44a5-9307-b645bb7f8f8e",
   "metadata": {},
   "source": [
    "### ✅ Problem 4  \n",
    "**Task:** Print all characters in a word except vowels."
   ]
  },
  {
   "cell_type": "code",
   "execution_count": 32,
   "id": "c1a4d5bd-5a17-4ea7-8746-4f8fdc8eeb03",
   "metadata": {},
   "outputs": [
    {
     "name": "stdout",
     "output_type": "stream",
     "text": [
      "P\n",
      "y\n",
      "t\n",
      "h\n",
      "n\n",
      "P\n",
      "r\n",
      "g\n",
      "r\n",
      "m\n",
      "m\n",
      "n\n",
      "g\n"
     ]
    }
   ],
   "source": [
    "word = \"PythonProgramming\"\n",
    "\n",
    "for char in word:\n",
    "    if char.lower() in \"aeiou\":\n",
    "        continue\n",
    "    print(char)"
   ]
  },
  {
   "cell_type": "markdown",
   "id": "e9dd45b2-7e96-4da7-bf39-a7ff038b9e76",
   "metadata": {},
   "source": [
    "**Explanation:**\n",
    "\n",
    "- The `for` loop iterates through each character in the string `word`.\n",
    "- The condition `if char.lower() in \"aeiou\"` checks if the current character is a vowel (case-insensitive).\n",
    "- If the condition is `True`, `continue` skips the `print(char)` statement and moves to the next character.\n",
    "- As a result, only consonants are printed since vowels are skipped.\n",
    "- This technique is useful for filtering out specific characters in text processing tasks.\n"
   ]
  },
  {
   "cell_type": "markdown",
   "id": "b5e0a277-12a2-4729-87e3-431a8e7beae5",
   "metadata": {},
   "source": [
    "### ✅ Problem 5  \n",
    "**Task:** Process a list of transactions, skipping failed ones."
   ]
  },
  {
   "cell_type": "code",
   "execution_count": 33,
   "id": "57b7af69-b3b5-4aed-9c28-66f949093a63",
   "metadata": {},
   "outputs": [
    {
     "name": "stdout",
     "output_type": "stream",
     "text": [
      "Processed transaction of amount: 200\n",
      "Transaction failed. Skipping...\n",
      "Processed transaction of amount: 450\n",
      "Transaction failed. Skipping...\n",
      "Processed transaction of amount: 600\n"
     ]
    }
   ],
   "source": [
    "transactions = [200, -1, 450, -1, 600]\n",
    "\n",
    "for amount in transactions:\n",
    "    if amount == -1:\n",
    "        print(\"Transaction failed. Skipping...\")\n",
    "        continue\n",
    "    print(f\"Processed transaction of amount: {amount}\")"
   ]
  },
  {
   "cell_type": "markdown",
   "id": "19c81725-db78-4158-b1e2-291774a059ce",
   "metadata": {},
   "source": [
    "**Explanation:**\n",
    "\n",
    "- The `for` loop iterates through each item in the `transactions` list.\n",
    "- The condition `if amount == -1` checks if the transaction failed (represented by `-1`).\n",
    "- If the condition is `True`, it prints `\"Transaction failed. Skipping...\"` and `continue` skips the processing for that transaction.\n",
    "- Valid transaction amounts are processed and displayed with `print(f\"Processed transaction of amount: {amount}\")`.\n",
    "- This approach is commonly used when you need to skip invalid or failed data and continue processing the rest.\n"
   ]
  },
  {
   "cell_type": "markdown",
   "id": "f2c7fdf4-bf86-421a-a7cf-228f77e8f776",
   "metadata": {},
   "source": [
    "---\n",
    "## 🔹 Topic 5: Nested Loops\n",
    "\n",
    "✅ **Explanation:**\n",
    "- A **nested loop** is a loop inside another loop.\n",
    "- The **inner loop** executes **completely** every time the **outer loop** runs **once**.\n",
    "- Nested loops are useful for **working with multi-dimensional data**, **tables**, **grids**, or **repetitive structures**.\n",
    "\n",
    "✅ **Basic Syntax:**\n",
    "```python\n",
    "for outer in range(outer_limit):\n",
    "    for inner in range(inner_limit):\n",
    "        # code block executed inner_limit times for each outer loop iteration\n",
    "\n",
    "while outer_condition:\n",
    "    while inner_condition:\n",
    "        # code block executed as long as both conditions are True\n",
    "```\n",
    "\n",
    "✅ **How It Works:**\n",
    "\n",
    "- The outer loop starts and runs its first iteration.\n",
    "- Inside the outer loop, the inner loop runs from start to finish.\n",
    "- After the inner loop finishes, control goes back to the outer loop for its next iteration.\n",
    "- This cycle repeats until the outer loop completes.\n",
    "- Nested loops are often used when you need to combine elements from two sequences or work with rows and columns.\n",
    "\n",
    "\n",
    "✅ **Key Points:**\n",
    "\n",
    "- The inner loop runs completely for each single iteration of the outer loop.\n",
    "- Common use cases include:\n",
    "  - Multiplication tables\n",
    "  - Matrix operations\n",
    "  - Grids and patterns\n",
    "  - Coordinate systems\n",
    "- Be cautious: nested loops can lead to high time complexity (`O(n^2)` or worse).\n",
    "- Optimize nested loops when possible to avoid performance issues in large datasets.\n",
    "---"
   ]
  },
  {
   "cell_type": "markdown",
   "id": "96d4bff3-fb9e-4eb9-b188-cf1bb7a5f178",
   "metadata": {},
   "source": [
    "### ✅ Problem 1  \n",
    "**Task:** Print a multiplication table from 1 to 5."
   ]
  },
  {
   "cell_type": "code",
   "execution_count": 34,
   "id": "bab22200-84e2-43b6-a407-9bb71f8c8082",
   "metadata": {},
   "outputs": [
    {
     "name": "stdout",
     "output_type": "stream",
     "text": [
      "1 x 1 = 1\n",
      "1 x 2 = 2\n",
      "1 x 3 = 3\n",
      "1 x 4 = 4\n",
      "1 x 5 = 5\n",
      "----------\n",
      "2 x 1 = 2\n",
      "2 x 2 = 4\n",
      "2 x 3 = 6\n",
      "2 x 4 = 8\n",
      "2 x 5 = 10\n",
      "----------\n",
      "3 x 1 = 3\n",
      "3 x 2 = 6\n",
      "3 x 3 = 9\n",
      "3 x 4 = 12\n",
      "3 x 5 = 15\n",
      "----------\n",
      "4 x 1 = 4\n",
      "4 x 2 = 8\n",
      "4 x 3 = 12\n",
      "4 x 4 = 16\n",
      "4 x 5 = 20\n",
      "----------\n",
      "5 x 1 = 5\n",
      "5 x 2 = 10\n",
      "5 x 3 = 15\n",
      "5 x 4 = 20\n",
      "5 x 5 = 25\n",
      "----------\n"
     ]
    }
   ],
   "source": [
    "for i in range(1, 6):\n",
    "    for j in range(1, 6):\n",
    "        print(f\"{i} x {j} = {i * j}\")\n",
    "    print(\"----------\")"
   ]
  },
  {
   "cell_type": "markdown",
   "id": "285f9c30-51f1-4f94-8467-4b18ede0ee8e",
   "metadata": {},
   "source": [
    "**Explanation:**\n",
    "\n",
    "- The outer loop `for i in range(1, 6)` controls the first number in the multiplication.\n",
    "- The inner loop `for j in range(1, 6)` runs through each number to multiply by `i`.\n",
    "- Inside the inner loop, `print(f\"{i} x {j} = {i * j}\")` displays the multiplication result.\n",
    "- After the inner loop completes, `print(\"----------\")` separates the tables for clarity.\n",
    "- This nested loop is useful for creating multiplication tables, combinations, or grid patterns.\n"
   ]
  },
  {
   "cell_type": "markdown",
   "id": "0b4fa087-43d2-412d-b7d4-8f9fd8e1086f",
   "metadata": {},
   "source": [
    "### ✅ Problem 2  \n",
    "**Task:** Print a right-angled triangle of stars."
   ]
  },
  {
   "cell_type": "code",
   "execution_count": 36,
   "id": "ab591152-2df0-4921-9de1-266940859640",
   "metadata": {},
   "outputs": [
    {
     "name": "stdout",
     "output_type": "stream",
     "text": [
      "*\n",
      "**\n",
      "***\n",
      "****\n",
      "*****\n"
     ]
    }
   ],
   "source": [
    "rows = 5\n",
    "\n",
    "for i in range(1, rows + 1):\n",
    "    for j in range(i):\n",
    "        print(\"*\", end=\"\")\n",
    "    print()"
   ]
  },
  {
   "cell_type": "markdown",
   "id": "bddcde08-5fa9-42e1-8594-e1725e0f68ef",
   "metadata": {},
   "source": [
    "**Explanation:**\r\n",
    "\r\n",
    "- The outer loop `for i in range(1, rows + 1)` controls the number of rows to print.\r\n",
    "- The inner loop `for j in range(i)` prints a number of `*` equal to the current row number (`i`).\r\n",
    "- `print(\"*\", end=\"\")` prints stars on the same line without line breaks.\r\n",
    "- `print()` after the inner loop moves the cursor to the next line for the following row.\r\n",
    "- This nested loop creates a right-angled triangle pattern of stars and demonstrates how nested loops can build shapes or patterns.\r\n"
   ]
  },
  {
   "cell_type": "markdown",
   "id": "4479f12c-f94b-470e-8ead-51e7edf4c0de",
   "metadata": {},
   "source": [
    "### ✅ Problem 3  \n",
    "**Task:** Generate coordinate pairs in a 3x3 grid."
   ]
  },
  {
   "cell_type": "code",
   "execution_count": 37,
   "id": "8b392c35-815f-4e26-a228-87ab1fc89f27",
   "metadata": {},
   "outputs": [
    {
     "name": "stdout",
     "output_type": "stream",
     "text": [
      "Coordinate: (1, 1)\n",
      "Coordinate: (1, 2)\n",
      "Coordinate: (1, 3)\n",
      "Coordinate: (2, 1)\n",
      "Coordinate: (2, 2)\n",
      "Coordinate: (2, 3)\n",
      "Coordinate: (3, 1)\n",
      "Coordinate: (3, 2)\n",
      "Coordinate: (3, 3)\n"
     ]
    }
   ],
   "source": [
    "for x in range(1, 4):\n",
    "    for y in range(1, 4):\n",
    "        print(f\"Coordinate: ({x}, {y})\")"
   ]
  },
  {
   "cell_type": "markdown",
   "id": "ec8bba26-d754-4a0e-97fb-8f56e5441e86",
   "metadata": {},
   "source": [
    "**Explanation:**\n",
    "\n",
    "- The outer loop `for x in range(1, 4)` represents the rows or the first coordinate.\n",
    "- The inner loop `for y in range(1, 4)` represents the columns or the second coordinate.\n",
    "- On each iteration, the program prints the current coordinate pair using `print(f\"Coordinate: ({x}, {y})\")`.\n",
    "- The result is a list of coordinate pairs for a 3x3 grid, commonly used in grid-based systems, maps, or games.\n"
   ]
  },
  {
   "cell_type": "markdown",
   "id": "ddebffc9-22cb-4236-9e93-2b7d3b737834",
   "metadata": {},
   "source": [
    "### ✅ Problem 4  \n",
    "**Task:** Simulate a seating chart of 3 rows and 4 columns."
   ]
  },
  {
   "cell_type": "code",
   "execution_count": 38,
   "id": "b0569c12-edcc-4833-ab94-ba3ef5b8a2c2",
   "metadata": {},
   "outputs": [
    {
     "name": "stdout",
     "output_type": "stream",
     "text": [
      "Row 1 Seat 1\n",
      "Row 1 Seat 2\n",
      "Row 1 Seat 3\n",
      "Row 1 Seat 4\n",
      "Row 2 Seat 1\n",
      "Row 2 Seat 2\n",
      "Row 2 Seat 3\n",
      "Row 2 Seat 4\n",
      "Row 3 Seat 1\n",
      "Row 3 Seat 2\n",
      "Row 3 Seat 3\n",
      "Row 3 Seat 4\n"
     ]
    }
   ],
   "source": [
    "for row in range(1, 4):\n",
    "    for seat in range(1, 5):\n",
    "        print(f\"Row {row} Seat {seat}\")"
   ]
  },
  {
   "cell_type": "markdown",
   "id": "9f53034b-06ab-445c-a964-58f1f5d40296",
   "metadata": {},
   "source": [
    "**Explanation:**\n",
    "\n",
    "- The outer loop `for row in range(1, 4)` represents the rows of the seating arrangement.\n",
    "- The inner loop `for seat in range(1, 5)` represents the seats in each row.\n",
    "- On each iteration, the program prints the current seat location using `print(f\"Row {row} Seat {seat}\")`.\n",
    "- The result is a list of seat assignments, useful for theater, classroom, or event seating charts.\n"
   ]
  },
  {
   "cell_type": "markdown",
   "id": "afc2b086-e3b5-4795-92c2-1d64d936edd9",
   "metadata": {},
   "source": [
    "### ✅ Problem 5  \n",
    "**Task:** Print all prime numbers between 1 and 20."
   ]
  },
  {
   "cell_type": "code",
   "execution_count": 40,
   "id": "1fd0a6d1-ab7d-458e-b2b3-7988ef822e97",
   "metadata": {},
   "outputs": [
    {
     "name": "stdout",
     "output_type": "stream",
     "text": [
      "2\n",
      "3\n",
      "5\n",
      "7\n",
      "11\n",
      "13\n",
      "17\n",
      "19\n"
     ]
    }
   ],
   "source": [
    "for num in range(2, 21):\n",
    "    is_prime = True\n",
    "    for i in range(2, int(num ** 0.5) + 1):\n",
    "        if num % i == 0:\n",
    "            is_prime = False\n",
    "            break\n",
    "    if is_prime:\n",
    "        print(num)"
   ]
  },
  {
   "cell_type": "markdown",
   "id": "bb54a6d2-a628-4015-a90e-7c03080f1d8f",
   "metadata": {},
   "source": [
    "**Explanation:**\n",
    "\n",
    "- The outer loop `for num in range(2, 21)` goes through each number from `2` to `20`.\n",
    "- A flag variable `is_prime` is initially set to `True` for each number.\n",
    "- The inner loop `for i in range(2, int(num ** 0.5) + 1)` checks for factors of `num`.\n",
    "- If `num` is divisible by `i`, `is_prime` is set to `False`, and the inner loop breaks early.\n",
    "- After checking all possible factors, if `is_prime` remains `True`, the number is printed as a prime.\n",
    "- This nested loop demonstrates a prime number check using a simple factor test, often used in mathematics programs or algorithm exercises.\n"
   ]
  }
 ],
 "metadata": {
  "kernelspec": {
   "display_name": "Python 3 (ipykernel)",
   "language": "python",
   "name": "python3"
  },
  "language_info": {
   "codemirror_mode": {
    "name": "ipython",
    "version": 3
   },
   "file_extension": ".py",
   "mimetype": "text/x-python",
   "name": "python",
   "nbconvert_exporter": "python",
   "pygments_lexer": "ipython3",
   "version": "3.11.2"
  }
 },
 "nbformat": 4,
 "nbformat_minor": 5
}
