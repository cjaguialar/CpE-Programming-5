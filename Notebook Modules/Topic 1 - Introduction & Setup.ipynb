{
 "cells": [
  {
   "cell_type": "markdown",
   "id": "0f82fe26-f46d-49a1-953c-a0aea75856fb",
   "metadata": {},
   "source": [
    "# Programming 5 - Python Programming"
   ]
  },
  {
   "cell_type": "markdown",
   "id": "bd6bf325-42ed-4cb0-99a5-87ab93033220",
   "metadata": {},
   "source": [
    "## 🎯 Objectives\r\n",
    "- Understand what Python is and why it is popular\r\n",
    "- Set up Python and a development environment\r\n",
    "- Write your first Python program\r\n",
    "- Learn basic syntax and variables\r\n",
    "\r\n",
    "---\r\n",
    "\r\n",
    "## 🐍 What is Python?\r\n",
    "\r\n",
    "Python is a **high-level**, **interpreted**, and **general-purpose programming language**. It was created by **Guido van Rossum** and released in **1991**. Python is known for its **simple** and **easy-to-read** syntax, making it ideal for **beginners** and professionals alike.\r\n",
    "\r\n",
    "### ✅ Why Python is Popular\r\n",
    "- **Easy to learn and use**: Python's clean syntax resembles natural language.\r\n",
    "- **Versatile**: Used for web development, data science, automation, AI/ML, and more.\r\n",
    "- **Cross-platform**: Runs on Windows, Mac, and Linux.\r\n",
    "- **Large community and libraries**: Thousands of libraries for various applications.\r\n",
    "- **Free and Open Source**: No cost, and open to modification and redistribution.\r\n",
    "\r\n",
    "---\r\n"
   ]
  },
  {
   "cell_type": "markdown",
   "id": "3d1435d6-6463-4edc-95ab-e90da95752ab",
   "metadata": {},
   "source": [
    "# ✅ Jupyter Notebook Setup Guide\r\n",
    "\r\n",
    "---\r\n",
    "\r\n",
    "## 1. Install Python\r\n",
    "\r\n",
    "➡️ If you haven't installed Python yet:\r\n",
    "\r\n",
    "1. Go to the official website: [https://www.python.org/downloads/](https://www.python.org/downloads/)\r\n",
    "2. Download **Python 3.10** or higher.\r\n",
    "3. During installation, make sure to check ✅ **Add Python to PATH**.\r\n",
    "4. Verify installation by opening **Command Prompt** (Windows) / **Terminal** (Mac/Linux) and typing:\r\n",
    "   ```bash\r\n",
    "   python --version\r\n"
   ]
  },
  {
   "cell_type": "markdown",
   "id": "48d006cf-4959-4f1e-9355-ed43e42948ea",
   "metadata": {},
   "source": [
    "\r\n",
    "---\r\n",
    "\r\n",
    "## 2. Install pip (Python Package Installer)\r\n",
    "\r\n",
    "➡️ Pip comes pre-installed with Python 3.4+.  \r\n",
    "Check if pip is installed by ruing:\r\n",
    "\r\n",
    "\n",
    "   ```bash\n",
    "   pip --version"
   ]
  },
  {
   "cell_type": "markdown",
   "id": "e9bbf61c-c713-436c-a013-f23b8b9fad57",
   "metadata": {},
   "source": [
    "\r\n",
    "➡️ If not installed, follow pip installation instructions here:  \r\n",
    "[https://pip.pypa.io/en/stable/installation/](https://pip.pypa.io/en/stable/installation/)\r\n",
    "\r\n",
    "---\r\n",
    "\r\n",
    "## 3. Install Jupyter Notebook\r\n",
    "\r\n",
    "### ✅ Option 1: Install via pip (recommended for beginners)\r\n",
    "\r\n",
    "\n",
    "   ```bash\n",
    "   pip install notebook"
   ]
  },
  {
   "cell_type": "markdown",
   "id": "d548a538-cb11-40ea-a912-92fe5e3463f2",
   "metadata": {},
   "source": [
    "\r\n",
    "### ✅ Option 2: Install via Anaconda (recommended for data science)\r\n",
    "\r\n",
    "1. Download and install Anaconda from:  \r\n",
    "   [https://www.anaconda.com/products/distribution](https://www.anaconda.com/products/distribution)\r\n",
    "\r\n",
    "2. Follow the installation instructions for your OS.\r\n",
    "\r\n",
    "3. Jupyter Notebook will be installed automatically with Anaconda.\r\n",
    "\r\n",
    "---\r\n",
    "\r\n",
    "## 4. Launch Jupyter Notebook\r\n",
    "\r\n",
    "After installation, open **Command Prompt / Terminal**, then run:\r\n",
    "\r\n",
    "\n",
    "   ```bash\n",
    "   jupyter notebook"
   ]
  },
  {
   "cell_type": "markdown",
   "id": "83457336-9093-4e2d-bb62-675deabc719b",
   "metadata": {},
   "source": [
    "\n",
    "➡️ This will automatically open Jupyter in your **default web browser**.  \r\n",
    "The URL will look like:\r\n",
    "\r\n",
    "\n",
    "   ```bash\n",
    "   http://localhost:8888/tree"
   ]
  },
  {
   "cell_type": "markdown",
   "id": "310650c4-b07f-45bb-99f6-f38a0fa70c78",
   "metadata": {},
   "source": [
    "---\n",
    "\n",
    "## ⚠️ Common Issues and Solutions\n",
    "\n",
    "| Problem                      | Solution                                                                 |\n",
    "|------------------------------|--------------------------------------------------------------------------|\n",
    "| `jupyter: command not found` | Ensure Python and Scripts folders are in your system **PATH**.          |\n",
    "| Notebook doesn't open browser| Copy the link shown in the terminal and paste it manually in the browser.|\n",
    "| Install errors               | Upgrade pip and retry: `pip install --upgrade pip`                      |\n",
    "\n",
    "---\n",
    "\n",
    "## 🎉 Done!\n",
    "\n",
    "Jupyter Notebook is ready to use.  \n",
    "You can now create, edit, and run Python code in an interactive environment!\n",
    "\n",
    "---"
   ]
  }
 ],
 "metadata": {
  "kernelspec": {
   "display_name": "Python 3 (ipykernel)",
   "language": "python",
   "name": "python3"
  },
  "language_info": {
   "codemirror_mode": {
    "name": "ipython",
    "version": 3
   },
   "file_extension": ".py",
   "mimetype": "text/x-python",
   "name": "python",
   "nbconvert_exporter": "python",
   "pygments_lexer": "ipython3",
   "version": "3.11.2"
  }
 },
 "nbformat": 4,
 "nbformat_minor": 5
}
