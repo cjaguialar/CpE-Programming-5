{
 "cells": [
  {
   "cell_type": "markdown",
   "id": "4e95b4d5-3053-44f1-bf3e-5f00be1112dd",
   "metadata": {},
   "source": [
    "# Programming 5 - Python Programming"
   ]
  },
  {
   "cell_type": "markdown",
   "id": "95f1e24c-7176-4954-b6f7-a0434824a42f",
   "metadata": {},
   "source": [
    "## Data Types & Operators\r\n",
    "\r\n",
    "In this lesson, we'll explore **data types** (Numbers, Strings, Booleans) and learn about **operators** (Arithmetic, Comparison, Logical). These are the building blocks of any Python program. By understanding how each data type behaves with different operators, you’ll gain a solid foundation for more complex concepts like data structures, conditionals, and functions.\r\n",
    "\r\n",
    "> **Note**: For a more in-depth discussion on Python’s data types and operators, see  \r\n",
    "> - Sanner, M. F. (1999). *Python: A Programming Language for Software Integration and Development.* Journal of Molecular Graphics and Modelling, 17(1), 57-61.  \r\n",
    "> - Lutz, M. (2013). *Learning Python* (5th ed.). O’Reilly Media, Inc.  \r\n",
    "> - Downey, A. B. (2015). *Think Python: How to Think Like a Computer Scientist.* O’Reilly Media, Inc.  \r\n",
    "\r\n",
    "These resources (all available via Google Scholar) discuss Python’s design philosophy, emphasize clarity over complexity, and provide more detailed explanations and examples.\r\n",
    "\r\n",
    "---\r\n"
   ]
  },
  {
   "cell_type": "markdown",
   "id": "d98d15f9-bff2-4bb7-9047-229e88197d51",
   "metadata": {},
   "source": [
    "## 1. Overview of Key Concepts\n",
    "\n",
    "### 1.1 Data Types\n",
    "\n",
    "1. **Numbers**  \n",
    "   - **Integers** (e.g. `10`, `-3`) — used for whole numbers (positive, negative, or zero).  \n",
    "   - **Floats** (e.g. `3.14`, `-0.5`) — used for decimal or fractional values.\n",
    "\n",
    "2. **Strings**  \n",
    "   - Represent text enclosed within quotes (`\"Hello World\"` or `'Hi'`).  \n",
    "   - Strings are immutable, meaning you can’t change individual characters within them once they’re created (you can only create new strings).\n",
    "\n",
    "3. **Booleans**  \n",
    "   - Represent logical values: `True` or `False`.  \n",
    "   - Often used in conditional statements (`if`, `while`) to control the flow of a program.\n"
   ]
  },
  {
   "cell_type": "markdown",
   "id": "3e5a7fd4-633e-438e-9f75-199f42a119a6",
   "metadata": {},
   "source": [
    "---\n",
    "### 1.2 Operators\n",
    "\n",
    "1. **Arithmetic Operators**  \n",
    "   - `+` (Addition)  \n",
    "   - `-` (Subtraction)  \n",
    "   - `*` (Multiplication)  \n",
    "   - `/` (Division)  \n",
    "   - `//` (Floor Division) — divides and returns the integer part (floored result).  \n",
    "   - `**` (Exponent) — raises one number to the power of another.  \n",
    "   - `%` (Modulus) — returns the remainder of a division.\n",
    "\n",
    "2. **Comparison Operators** (Result is always Boolean: `True` or `False`)  \n",
    "   - `==` (Equal to)  \n",
    "   - `!=` (Not equal to)  \n",
    "   - `>`  (Greater than)  \n",
    "   - `<`  (Less than)  \n",
    "   - `>=` (Greater than or equal to)  \n",
    "   - `<=` (Less than or equal to)\n",
    "\n",
    "3. **Logical Operators**  \n",
    "   - `and` — returns `True` if **both** operands are `True`.  \n",
    "   - `or`  — returns `True` if **at least one** operand is `True`.  \n",
    "   - `not` — inverts a Boolean value: `True` → `False`; `False` → `True`.\n",
    "\n",
    "---"
   ]
  },
  {
   "cell_type": "code",
   "execution_count": 6,
   "id": "406f9da2-9491-41b2-8c47-afe941c556ab",
   "metadata": {},
   "outputs": [],
   "source": [
    "# Suppose a customer buys 3 apples at $2 each and 2 oranges at $1.5 each\n",
    "apples = 3\n",
    "oranges = 2"
   ]
  },
  {
   "cell_type": "code",
   "execution_count": 3,
   "id": "44e64e5d-0d01-4983-961d-43acded44ff7",
   "metadata": {},
   "outputs": [],
   "source": [
    "# Arithmetic operators to calculate total cost\n",
    "cost_apples = apples * 2        # 3 * 2 = 6\n",
    "cost_oranges = oranges * 1.5    # 2 * 1.5 = 3.0\n"
   ]
  },
  {
   "cell_type": "code",
   "execution_count": 4,
   "id": "1e25f3e2-25a7-4653-93be-dd4849c4a262",
   "metadata": {},
   "outputs": [],
   "source": [
    "total_cost = cost_apples + cost_oranges  # 6 + 3.0 = 9.0"
   ]
  },
  {
   "cell_type": "code",
   "execution_count": 5,
   "id": "44277251-f701-4e7d-ae06-4aad78e2ea9e",
   "metadata": {},
   "outputs": [
    {
     "name": "stdout",
     "output_type": "stream",
     "text": [
      "Total Cost of Fruits: 9.0\n"
     ]
    }
   ],
   "source": [
    "print(\"Total Cost of Fruits:\", total_cost)"
   ]
  },
  {
   "cell_type": "markdown",
   "id": "e7b98790-efaf-4e06-b5a6-672e6b0096c1",
   "metadata": {},
   "source": [
    "**Detailed Explanation**\n",
    "\n",
    "1. **Variable Declarations**  \n",
    "   - `apples = 3` means we're storing the integer value `3` in the variable `apples`.  \n",
    "   - `oranges = 2` stores the integer `2`.\n",
    "\n",
    "2. **Multiplication Operator `*`**  \n",
    "   - `cost_apples = apples * 2` uses the multiplication operator. Since `apples` is `3`, `cost_apples` becomes `6`.  \n",
    "   - `cost_oranges = oranges * 1.5` uses a float `1.5`. This results in `3.0`.\n",
    "\n",
    "3. **Addition Operator `+`**  \n",
    "   - `total_cost = cost_apples + cost_oranges` adds up `6` and `3.0`, giving us `9.0`.\n",
    "\n",
    "4. **Print Statement**  \n",
    "   - `print(\"Total Cost of Fruits:\", total_cost)` outputs **Total Cost of Fruits: 9.0**.\n",
    "\n",
    "This scenario illustrates how arithmetic operators work with both **integers** and **floats**, automatically producing a **float** result when mixing the two.\n"
   ]
  },
  {
   "cell_type": "markdown",
   "id": "caacf97b-c12a-45b1-aba9-1a4b51975b89",
   "metadata": {},
   "source": [
    "---"
   ]
  },
  {
   "cell_type": "code",
   "execution_count": 7,
   "id": "f1b527aa-6288-4b29-8fca-b26864747b50",
   "metadata": {},
   "outputs": [
    {
     "name": "stdout",
     "output_type": "stream",
     "text": [
      "Student passed the exam.\n"
     ]
    }
   ],
   "source": [
    "# Student's score out of 100\n",
    "score = 85\n",
    "\n",
    "# Compare the score with a threshold\n",
    "passed = score >= 75\n",
    "\n",
    "if passed:\n",
    "    print(\"Student passed the exam.\")\n",
    "else:\n",
    "    print(\"Student failed the exam.\")"
   ]
  },
  {
   "cell_type": "markdown",
   "id": "099c3619-891c-40f2-a11b-60345bdffd2c",
   "metadata": {},
   "source": [
    "**Detailed Explanation**\r\n",
    "\r\n",
    "1. **Comparison Operator `>=`**  \r\n",
    "   - `score >= 75` checks if `85` is greater than or equal to `75`. This returns `True`.\r\n",
    "\r\n",
    "2. **Boolean Variable**  \r\n",
    "   - `passed` stores the result of that comparison (`True`).\r\n",
    "\r\n",
    "3. **If Statement**  \r\n",
    "   - `if passed:` is the same as `if passed == True:`, so the code inside the `if` block runs if `passed` is `True`.\r\n",
    "\r\n",
    "4. **Output**  \r\n",
    "   - Because `passed` is `True`, the program prints **\"Student passed the exam.\"**\r\n",
    "\r\n",
    "This demonstrates how **comparison operators** produce a **Boolean** value that can be used to control **program flow** via conditional statements.\r\n"
   ]
  },
  {
   "cell_type": "markdown",
   "id": "580c1b32-2f39-4e71-8188-fcd4fe079e7a",
   "metadata": {},
   "source": [
    "---"
   ]
  },
  {
   "cell_type": "code",
   "execution_count": 8,
   "id": "42bbbf4a-a370-4464-9158-c29410dfad2f",
   "metadata": {},
   "outputs": [
    {
     "name": "stdout",
     "output_type": "stream",
     "text": [
      "Hello, Alice Wonderland!\n"
     ]
    }
   ],
   "source": [
    "# Gather user first and last name\n",
    "first_name = \"Alice\"\n",
    "last_name = \"Wonderland\"\n",
    "\n",
    "# Concatenate using '+' operator\n",
    "full_name = first_name + \" \" + last_name\n",
    "\n",
    "print(\"Hello, \" + full_name + \"!\")\n"
   ]
  },
  {
   "cell_type": "markdown",
   "id": "f02d7981-b567-4a53-903a-b533c673b10c",
   "metadata": {},
   "source": [
    "**Detailed Explanation**\n",
    "\n",
    "**String Variables:**  \n",
    "`first_name = \"Alice\"` and `last_name = \"Wonderland\"` assign string values to the variables.\n",
    "\n",
    "**Concatenation with `+`:**  \n",
    "`full_name = first_name + \" \" + last_name` joins `\"Alice\"`, `\" \"`, and `\"Wonderland\"` into `\"Alice Wonderland\"`.\n",
    "\n",
    "**Print Statement:**  \n",
    "`print(\"Hello, \" + full_name + \"!\")` uses the `+` operator to form the final greeting string `\"Hello, Alice Wonderland!\"`.\n",
    "\n",
    "When using the `+` operator on strings, Python **concatenates** them, forming one continuous string. This is one way to combine text dynamically.\n"
   ]
  },
  {
   "cell_type": "markdown",
   "id": "07642aad-39ab-484c-8f07-c1d60deed52b",
   "metadata": {},
   "source": [
    "---"
   ]
  },
  {
   "cell_type": "code",
   "execution_count": 9,
   "id": "8c0144ad-d9bb-42ee-8403-bb49a09878e3",
   "metadata": {},
   "outputs": [
    {
     "name": "stdout",
     "output_type": "stream",
     "text": [
      "You have access to edit content.\n"
     ]
    }
   ],
   "source": [
    "# Roles in a system\n",
    "is_admin = False\n",
    "is_editor = True\n",
    "\n",
    "# Logical operators\n",
    "if is_admin or is_editor:\n",
    "    print(\"You have access to edit content.\")\n",
    "else:\n",
    "    print(\"Access denied.\")\n"
   ]
  },
  {
   "cell_type": "markdown",
   "id": "29dc848b-cb84-421e-ae5a-91b1c60a6f70",
   "metadata": {},
   "source": [
    "**Detailed Explanation**\n",
    "\n",
    "**Boolean Variables:**  \n",
    "`is_admin = False`  \n",
    "`is_editor = True`  \n",
    "\n",
    "**Logical Operator `or`:**  \n",
    "The expression `is_admin or is_editor` checks if *at least one* is `True`.  \n",
    "Since `is_editor` is `True`, the entire expression evaluates to `True`.\n",
    "\n",
    "**Conditional Check:**  \n",
    "Because the condition is `True`, the program prints `\"You have access to edit content.\"`\n",
    "\n",
    "**Note on other logical operators:**  \n",
    "- `and` requires **both** operands to be `True`.  \n",
    "- `not` flips a Boolean value from `True` to `False` or vice versa.\n",
    "\n",
    "This is essential in **access control** scenarios, where user permissions rely on Boolean checks.\n"
   ]
  },
  {
   "cell_type": "markdown",
   "id": "319231c9-4fad-4453-96a2-93a49358c6e0",
   "metadata": {},
   "source": [
    "---"
   ]
  },
  {
   "cell_type": "code",
   "execution_count": 10,
   "id": "0fbc05a7-efe3-4c63-b6fc-178f240c5bee",
   "metadata": {},
   "outputs": [
    {
     "name": "stdout",
     "output_type": "stream",
     "text": [
      "Subtotal: 17.95\n",
      "Tip Amount: 1.795\n",
      "Grand Total: 19.744999999999997\n"
     ]
    }
   ],
   "source": [
    "# Input strings representing numbers\n",
    "food_cost_str = \"15.50\"\n",
    "drink_cost_str = \"2.45\"\n",
    "tip_percentage_str = \"10\"\n",
    "\n",
    "# Convert strings to float or int\n",
    "food_cost = float(food_cost_str)\n",
    "drink_cost = float(drink_cost_str)\n",
    "tip_percentage = int(tip_percentage_str)\n",
    "\n",
    "# Calculate total\n",
    "sub_total = food_cost + drink_cost\n",
    "tip_amount = sub_total * (tip_percentage / 100)\n",
    "grand_total = sub_total + tip_amount\n",
    "\n",
    "print(\"Subtotal:\", sub_total)\n",
    "print(\"Tip Amount:\", tip_amount)\n",
    "print(\"Grand Total:\", grand_total)\n"
   ]
  },
  {
   "cell_type": "code",
   "execution_count": null,
   "id": "78c1efc5-c35a-4eed-ae47-08a042da4321",
   "metadata": {},
   "outputs": [],
   "source": []
  },
  {
   "cell_type": "markdown",
   "id": "628860fd-d728-4a3e-ba04-8d90e86b350a",
   "metadata": {},
   "source": [
    "**Detailed Explanation**\r\n",
    "\r\n",
    "**String Inputs**  \r\n",
    "- Variables like `food_cost_str = \"15.50\"` look like numbers but are actually **strings**.\r\n",
    "\r\n",
    "**Type Conversion**  \r\n",
    "- `float(food_cost_str)` turns the **string** `\"15.50\"` into a **float** `15.50`.  \r\n",
    "- `int(tip_percentage_str)` turns the **string** `\"10\"` into an **integer** `10`.\r\n",
    "\r\n",
    "**Arithmetic Operations**  \r\n",
    "- `sub_total = food_cost + drink_cost` → **15.50 + 2.45 = 17.95**.  \r\n",
    "- `tip_amount = sub_total * (tip_percentage / 100)` → **17.95 * (10 / 100) = 1.795**.  \r\n",
    "- `grand_total = sub_total + tip_amount` → **17.95 + 1.795 = 19.745**.\r\n",
    "\r\n",
    "**Float Precision**  \r\n",
    "- Python might display the result as **19.745000000000005** due to floating-point precision. That’s normal for floats—some decimals can’t be perfectly represented in binary form.\r\n"
   ]
  }
 ],
 "metadata": {
  "kernelspec": {
   "display_name": "Python 3 (ipykernel)",
   "language": "python",
   "name": "python3"
  },
  "language_info": {
   "codemirror_mode": {
    "name": "ipython",
    "version": 3
   },
   "file_extension": ".py",
   "mimetype": "text/x-python",
   "name": "python",
   "nbconvert_exporter": "python",
   "pygments_lexer": "ipython3",
   "version": "3.11.2"
  }
 },
 "nbformat": 4,
 "nbformat_minor": 5
}
