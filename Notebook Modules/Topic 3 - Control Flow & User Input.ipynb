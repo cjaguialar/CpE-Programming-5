{
 "cells": [
  {
   "cell_type": "markdown",
   "id": "657df6b0-6a86-4780-9e30-1e3967fd8ed6",
   "metadata": {},
   "source": [
    "# Programming 5 - Python Programming"
   ]
  },
  {
   "cell_type": "markdown",
   "id": "2ce86e82-e441-4e5a-abc5-b9baae924a98",
   "metadata": {},
   "source": [
    "## Control Flow & User Input\n",
    "\n",
    "### ✅ Topics Covered\n",
    "- `if`, `elif`, `else` statements\n",
    "- Nested conditions\n",
    "- `match-case` (Python 3.10+)\n",
    "- User input with `input()`\n",
    "- Type conversion (str, int, float)\n",
    "- Basic error handling for user input\n",
    "\n",
    "---\n",
    "\n",
    "### 🔹 Control Flow with `if-elif-else`\n",
    "\n",
    "**Syntax**:\n",
    "```python\n",
    "if condition:\n",
    "    # do something\n",
    "elif another_condition:\n",
    "    # do something else\n",
    "else:\n",
    "    # do something if none of the above\n"
   ]
  },
  {
   "cell_type": "code",
   "execution_count": 1,
   "id": "5475ef01-2c35-4eb1-bc30-f6be22503067",
   "metadata": {},
   "outputs": [
    {
     "name": "stdout",
     "output_type": "stream",
     "text": [
      "B\n"
     ]
    }
   ],
   "source": [
    "grade = 85\n",
    "\n",
    "if grade >= 90:\n",
    "    print(\"A\")\n",
    "elif grade >= 80:\n",
    "    print(\"B\")\n",
    "else:\n",
    "    print(\"C or below\")\n"
   ]
  },
  {
   "cell_type": "markdown",
   "id": "dfcda79f-9ca0-4f40-adf0-3c94c04f69df",
   "metadata": {},
   "source": [
    "### 🔹 User Input in Python\n",
    "\n",
    "Python uses the `input()` function to take input from the user."
   ]
  },
  {
   "cell_type": "code",
   "execution_count": 2,
   "id": "1e2837ee-b7ed-4a15-87f2-022a9a0aba23",
   "metadata": {},
   "outputs": [
    {
     "name": "stdin",
     "output_type": "stream",
     "text": [
      "Enter your name:  mark\n"
     ]
    },
    {
     "name": "stdout",
     "output_type": "stream",
     "text": [
      "Hello, mark!\n"
     ]
    }
   ],
   "source": [
    "name = input(\"Enter your name: \")\n",
    "print(\"Hello, \" + name + \"!\")\n"
   ]
  },
  {
   "cell_type": "markdown",
   "id": "63ce10ae-8e18-4b22-ab61-79defc1672bf",
   "metadata": {},
   "source": [
    "#### ✅ Converting Input Types\n",
    "\n",
    "`input()` always returns a **string**. You can convert it to numbers:"
   ]
  },
  {
   "cell_type": "code",
   "execution_count": 3,
   "id": "c94dc49b-9f39-4aeb-9bf7-7b5f611640e1",
   "metadata": {},
   "outputs": [
    {
     "name": "stdin",
     "output_type": "stream",
     "text": [
      "Enter your age:  6\n"
     ]
    },
    {
     "name": "stdout",
     "output_type": "stream",
     "text": [
      "You will be 7 next year.\n"
     ]
    }
   ],
   "source": [
    "age = int(input(\"Enter your age: \"))\n",
    "print(\"You will be\", age + 1, \"next year.\")\n"
   ]
  },
  {
   "cell_type": "markdown",
   "id": "4ce6b6f6-c972-4a8c-9381-5d0032ebd89d",
   "metadata": {},
   "source": [
    "#### ✅ Error Handling for User Input\n",
    "\n",
    "Handle cases where the user types invalid data:"
   ]
  },
  {
   "cell_type": "code",
   "execution_count": 5,
   "id": "5d932952-e468-4be6-9f32-04b65cd7385a",
   "metadata": {},
   "outputs": [
    {
     "name": "stdin",
     "output_type": "stream",
     "text": [
      "Enter a number:  a\n"
     ]
    },
    {
     "name": "stdout",
     "output_type": "stream",
     "text": [
      "Please enter a valid integer.\n"
     ]
    }
   ],
   "source": [
    "try:\n",
    "    number = int(input(\"Enter a number: \"))\n",
    "    print(\"Double your number is:\", number * 2)\n",
    "except ValueError:\n",
    "    print(\"Please enter a valid integer.\")\n"
   ]
  },
  {
   "cell_type": "markdown",
   "id": "583b5ec3-e94c-479b-bd15-75071b3a1a51",
   "metadata": {},
   "source": [
    "### 🔹 match-case\n",
    "\n",
    "Simpler alternative to complex `if-elif` chains.\n"
   ]
  },
  {
   "cell_type": "code",
   "execution_count": 6,
   "id": "10b498a6-f3bc-41d3-af0e-3aaf05317a5a",
   "metadata": {},
   "outputs": [
    {
     "name": "stdin",
     "output_type": "stream",
     "text": [
      "Enter command:  start\n"
     ]
    },
    {
     "name": "stdout",
     "output_type": "stream",
     "text": [
      "System starting...\n"
     ]
    }
   ],
   "source": [
    "command = input(\"Enter command: \")\n",
    "\n",
    "match command:\n",
    "    case \"start\":\n",
    "        print(\"System starting...\")\n",
    "    case \"stop\":\n",
    "        print(\"System stopping...\")\n",
    "    case _:\n",
    "        print(\"Unknown command\")\n"
   ]
  },
  {
   "cell_type": "code",
   "execution_count": null,
   "id": "48055d28-ad6a-4b90-9155-26ec1e89845c",
   "metadata": {},
   "outputs": [],
   "source": []
  }
 ],
 "metadata": {
  "kernelspec": {
   "display_name": "Python 3 (ipykernel)",
   "language": "python",
   "name": "python3"
  },
  "language_info": {
   "codemirror_mode": {
    "name": "ipython",
    "version": 3
   },
   "file_extension": ".py",
   "mimetype": "text/x-python",
   "name": "python",
   "nbconvert_exporter": "python",
   "pygments_lexer": "ipython3",
   "version": "3.11.2"
  }
 },
 "nbformat": 4,
 "nbformat_minor": 5
}
