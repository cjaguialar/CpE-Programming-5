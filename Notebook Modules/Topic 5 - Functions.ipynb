{
 "cells": [
  {
   "cell_type": "markdown",
   "id": "83e33678-9994-48a6-b809-1d054911ed7e",
   "metadata": {},
   "source": [
    "# Programming 5 - Python Programming"
   ]
  },
  {
   "cell_type": "markdown",
   "id": "c752bc32-70cb-4502-be48-d35893aaf497",
   "metadata": {},
   "source": [
    "# Functions\n",
    "\n",
    "✅ **Explanation:**\n",
    "- A **function** is a reusable block of code that performs a specific task.\n",
    "- Functions help you **organize code**, **avoid repetition**, and make programs **more readable and maintainable**.\n",
    "- You can **define** your own functions or use **built-in** ones like `print()` or `len()`.\n",
    "\n",
    "---\n",
    "\n",
    "✅ **Basic Syntax:**\n",
    "```python\n",
    "def function_name(parameters):\n",
    "    # code block\n",
    "    return result\n",
    "    \n",
    "def greet(name):\n",
    "    print(f\"Hello, {name}!\")\n",
    "```\n",
    "✅ **How It Works:**\n",
    "\n",
    "- Use the `def` keyword to define a function.\n",
    "- Give the function a name and specify optional parameters inside parentheses.\n",
    "- Write the code block that performs the task inside the function.\n",
    "- Optionally, use `return` to send a result back to the caller.\n",
    "- Call the function by using its name followed by parentheses, and pass any required arguments.\n",
    "\n",
    "✅ **Key Points:**\n",
    "\n",
    "- Functions:\n",
    "  - Help break programs into smaller pieces.\n",
    "  - Make code reusable, modular, and easier to debug.\n",
    "\n",
    "- `return` is optional:\n",
    "  - If omitted, the function returns `None` by default.\n",
    "\n",
    "- Parameters:\n",
    "  - Can be positional, default, or keyword arguments.\n",
    "\n",
    "- Use docstrings (`\"\"\" \"\"\"`) to describe what a function does.\n",
    "\n",
    "- Python also supports:\n",
    "  - Lambda functions (anonymous, one-liner functions).\n",
    "  - Higher-order functions (functions that take other functions as arguments).\n",
    "---"
   ]
  },
  {
   "cell_type": "markdown",
   "id": "47c2d86e-1918-4e5e-a238-b0bf7e4a3fc8",
   "metadata": {},
   "source": [
    "### ✅ Problem 1  \n",
    "**Task:** Create a function that greets the user by their name."
   ]
  },
  {
   "cell_type": "code",
   "execution_count": 1,
   "id": "d74ce084-4e34-4b9e-abcc-7253ce6f8b63",
   "metadata": {},
   "outputs": [],
   "source": [
    "def greet_user(name):\n",
    "    print(f\"Hello, {name}! Welcome to the program.\")"
   ]
  },
  {
   "cell_type": "code",
   "execution_count": 2,
   "id": "24b67f11-fc59-4dee-9b4a-a09a31926bf5",
   "metadata": {},
   "outputs": [
    {
     "name": "stdout",
     "output_type": "stream",
     "text": [
      "Hello, Jayson! Welcome to the program.\n"
     ]
    }
   ],
   "source": [
    "# Function call\n",
    "greet_user(\"Jayson\")"
   ]
  },
  {
   "cell_type": "markdown",
   "id": "f4c69e73-4742-4bfb-a122-48281976aaae",
   "metadata": {},
   "source": [
    "**Explanation:**\n",
    "\n",
    "- The function is defined with the name `greet_user` and one parameter `name`.\n",
    "- Inside the function, `print(f\"Hello, {name}! Welcome to the program.\")` displays a greeting message.\n",
    "- When the function is called with an argument (e.g., `\"Jayson\"`), it prints the personalized greeting.\n",
    "- This example shows how to pass arguments to a function and reuse the function with different names.\n"
   ]
  },
  {
   "cell_type": "markdown",
   "id": "e5554621-a799-43e4-a14d-d7a692143b1f",
   "metadata": {},
   "source": [
    "### ✅ Problem 2  \n",
    "**Task:** Create a function that adds two numbers and returns the result."
   ]
  },
  {
   "cell_type": "code",
   "execution_count": 3,
   "id": "c7596a04-58be-45b0-8457-8184aeaff27e",
   "metadata": {},
   "outputs": [],
   "source": [
    "def add_numbers(a, b):\n",
    "    return a + b"
   ]
  },
  {
   "cell_type": "code",
   "execution_count": 4,
   "id": "6304f2d9-8fe8-472d-a020-4eb5650ed10b",
   "metadata": {},
   "outputs": [
    {
     "name": "stdout",
     "output_type": "stream",
     "text": [
      "The sum is: 8\n"
     ]
    }
   ],
   "source": [
    "# Function call\n",
    "result = add_numbers(5, 3)\n",
    "print(f\"The sum is: {result}\")"
   ]
  },
  {
   "cell_type": "markdown",
   "id": "3ca5f402-10f9-4efc-b12f-241ceb038ddf",
   "metadata": {},
   "source": [
    "**Explanation:**\n",
    "\n",
    "- The function is defined with the name `add_numbers` and two parameters `a` and `b`.\n",
    "- Inside the function, `return a + b` sends the sum of the two numbers back to the caller.\n",
    "- The returned result is stored in the variable `result`.\n",
    "- `print(f\"The sum is: {result}\")` displays the calculated sum.\n",
    "- This example demonstrates how a function can perform calculations and return a value.\n"
   ]
  },
  {
   "cell_type": "markdown",
   "id": "560ada3d-ac7a-4fd8-b35c-c281b7a40b65",
   "metadata": {},
   "source": [
    "### ✅ Problem 3  \n",
    "**Task:** Create a function that checks if a number is even or odd."
   ]
  },
  {
   "cell_type": "code",
   "execution_count": 6,
   "id": "9d8b3822-5e67-43db-9bf7-45f0b33d345c",
   "metadata": {},
   "outputs": [],
   "source": [
    "def check_even_odd(number):\n",
    "    if number % 2 == 0:\n",
    "        print(f\"{number} is even.\")\n",
    "    else:\n",
    "        print(f\"{number} is odd.\")"
   ]
  },
  {
   "cell_type": "code",
   "execution_count": 7,
   "id": "3dc0c88a-94cb-45d4-912d-813aca467f69",
   "metadata": {},
   "outputs": [
    {
     "name": "stdout",
     "output_type": "stream",
     "text": [
      "7 is odd.\n"
     ]
    }
   ],
   "source": [
    "# Function call\n",
    "check_even_odd(7)"
   ]
  },
  {
   "cell_type": "markdown",
   "id": "93ab163d-c2c6-41fb-9647-0359031b9a3f",
   "metadata": {},
   "source": [
    "**Explanation:**\r\n",
    "\r\n",
    "- The function `check_even_odd` takes one parameter, `number`.\r\n",
    "- Inside the function, the condition `if number % 2 == 0` checks if the number is divisible by 2.\r\n",
    "- If the condition is `True`, it prints that the number is even.\r\n",
    "- Otherwise, it prints that the number is odd.\r\n",
    "- This function demonstrates conditional logic inside a function and how to perform a simple parity check.\r\n"
   ]
  },
  {
   "cell_type": "markdown",
   "id": "a2cd35c9-7c84-4f96-be4d-cf16562cf792",
   "metadata": {},
   "source": [
    "### ✅ Problem 4  \n",
    "**Task:** Create a function that calculates the factorial of a number."
   ]
  },
  {
   "cell_type": "code",
   "execution_count": 8,
   "id": "a779e470-d0f7-48d3-b440-015f21270204",
   "metadata": {},
   "outputs": [],
   "source": [
    "def factorial(n):\n",
    "    result = 1\n",
    "    for i in range(1, n + 1):\n",
    "        result *= i\n",
    "    return result"
   ]
  },
  {
   "cell_type": "code",
   "execution_count": 9,
   "id": "d38c6742-0ec8-4288-b48f-cf13daafaf8a",
   "metadata": {},
   "outputs": [
    {
     "name": "stdout",
     "output_type": "stream",
     "text": [
      "The factorial is: 120\n"
     ]
    }
   ],
   "source": [
    "# Function call\n",
    "fact = factorial(5)\n",
    "print(f\"The factorial is: {fact}\")"
   ]
  },
  {
   "cell_type": "markdown",
   "id": "7923fbe8-0d71-4c37-a7d4-c28565d98943",
   "metadata": {},
   "source": [
    "**Explanation:**\n",
    "\n",
    "- The function `factorial` takes one parameter, `n`.\n",
    "- Inside the function, `result` is initialized to `1` to store the product.\n",
    "- The `for` loop runs from `1` to `n`, multiplying `result` by `i` on each iteration.\n",
    "- After the loop completes, the function returns the `result` (which is the factorial of `n`).\n",
    "- This function demonstrates iteration and multiplication to calculate a factorial, a common mathematical operation.\n"
   ]
  },
  {
   "cell_type": "markdown",
   "id": "510427fa-306e-449e-a9d2-74d625322e92",
   "metadata": {},
   "source": [
    "### ✅ Problem 5  \n",
    "**Task:** Create a function that converts temperatures from Celsius to Fahrenheit.\n"
   ]
  },
  {
   "cell_type": "code",
   "execution_count": 10,
   "id": "7c973933-113f-4c4f-b65b-665d54a2fd0c",
   "metadata": {},
   "outputs": [],
   "source": [
    "def celsius_to_fahrenheit(celsius):\n",
    "    fahrenheit = (celsius * 9/5) + 32\n",
    "    return fahrenheit"
   ]
  },
  {
   "cell_type": "code",
   "execution_count": 11,
   "id": "6ac8d8b2-4879-44d3-84f7-b59f7383f1bf",
   "metadata": {},
   "outputs": [
    {
     "name": "stdout",
     "output_type": "stream",
     "text": [
      "25 degrees Celsius is equal to 77.0 degrees Fahrenheit.\n"
     ]
    }
   ],
   "source": [
    "# Function call\n",
    "temp_f = celsius_to_fahrenheit(25)\n",
    "print(f\"25 degrees Celsius is equal to {temp_f} degrees Fahrenheit.\")"
   ]
  },
  {
   "cell_type": "markdown",
   "id": "75b106b1-5733-4616-8168-20c75154dcde",
   "metadata": {},
   "source": [
    "**Explanation:**\r\n",
    "\r\n",
    "- The function `celsius_to_fahrenheit` takes one parameter, `celsius`.\r\n",
    "- Inside the function, it calculates the equivalent Fahrenheit temperature using the formula `(celsius * 9/5) + 32`.\r\n",
    "- The result is returned to the caller.\r\n",
    "- When the function is called with `25` as the argument, it returns `77.0` and displays the result.\r\n",
    "- This function demonstrates how to perform unit conversion and return the result to the caller.\r\n"
   ]
  },
  {
   "cell_type": "markdown",
   "id": "8c8549db-9540-4b3c-905a-e4b4354a8fd3",
   "metadata": {},
   "source": [
    "---\n",
    "## 🔹 Topic: Lambda Functions\n",
    "\n",
    "✅ **Explanation:**\n",
    "- A **lambda function** is a small, anonymous function in Python.\n",
    "- It is defined without a name and is typically used for **short, simple operations**.\n",
    "- Lambda functions are commonly used when you need a **simple function for a short period**, like in `map()`, `filter()`, or `sorted()` functions.\n",
    "\n",
    "✅ **Basic Syntax:**\n",
    "```python\n",
    "lambda arguments: expression\n",
    "\n",
    "square = lambda x: x ** 2\n",
    "print(square(5))  # Output: 25\n",
    "```\n",
    "\n",
    "✅ **How It Works:**\n",
    "\n",
    "- A `lambda` keyword is used to define the function.\n",
    "- The function can take any number of arguments, but only one expression.\n",
    "- The expression is evaluated and returned automatically.\n",
    "- Lambda functions are often assigned to a variable or used directly where they are needed.\n",
    "\n",
    "✅ **Key Points:**\n",
    "\n",
    "- Lambda functions:\n",
    "  - Are anonymous (no `def` or function name required).\n",
    "  - Contain one expression (no multiple lines or complex logic).\n",
    "  - Are commonly used with `map()`, `filter()`, `reduce()`, and `sorted()` functions.\n",
    "- Syntax is concise and ideal for quick operations.\n",
    "- Lambda functions should be used when:\n",
    "  - The function is short and simple.\n",
    "  - You don’t want to formally define a separate function using `def`.\n",
    "---"
   ]
  },
  {
   "cell_type": "markdown",
   "id": "6ea616ca-5512-4114-95f7-9f60cebcefd0",
   "metadata": {},
   "source": [
    "### ✅ Problem 1  \n",
    "**Task:** Create a lambda function to add 10 to a given number."
   ]
  },
  {
   "cell_type": "code",
   "execution_count": 12,
   "id": "7aac7266-3df0-44d4-bb45-6c1ce4ed0afa",
   "metadata": {},
   "outputs": [],
   "source": [
    "add_ten = lambda x: x + 10"
   ]
  },
  {
   "cell_type": "code",
   "execution_count": 13,
   "id": "edbd73af-94b9-4fa0-8fa1-23d168bcb9d3",
   "metadata": {},
   "outputs": [
    {
     "name": "stdout",
     "output_type": "stream",
     "text": [
      "15\n"
     ]
    }
   ],
   "source": [
    "result = add_ten(5)\n",
    "print(result)  # Output: 15"
   ]
  },
  {
   "cell_type": "markdown",
   "id": "82a58d0c-7e17-43b2-a7d7-22660f58bbca",
   "metadata": {},
   "source": [
    "**Explanation:**\n",
    "\n",
    "- `add_ten` is a lambda function that takes one argument `x` and returns `x + 10`.\n",
    "- When the function is called with `5` as the argument, it returns `15`.\n",
    "- This demonstrates a simple lambda function that performs a single operation quickly without using `def`.\n"
   ]
  },
  {
   "cell_type": "markdown",
   "id": "37a21bc3-b78c-4c68-82dd-0c1e5bcbffc4",
   "metadata": {},
   "source": [
    "### ✅ Problem 2  \n",
    "**Task:** Use a lambda function to multiply two numbers."
   ]
  },
  {
   "cell_type": "code",
   "execution_count": 14,
   "id": "f6a237ac-6a9e-4abf-bf8b-aa4c785cd3e3",
   "metadata": {},
   "outputs": [],
   "source": [
    "multiply = lambda a, b: a * b"
   ]
  },
  {
   "cell_type": "code",
   "execution_count": 15,
   "id": "796c431c-e90f-4f30-8c84-237cadc76646",
   "metadata": {},
   "outputs": [
    {
     "name": "stdout",
     "output_type": "stream",
     "text": [
      "20\n"
     ]
    }
   ],
   "source": [
    "result = multiply(4, 5)\n",
    "print(result)  # Output: 20"
   ]
  },
  {
   "cell_type": "markdown",
   "id": "21b7fc67-ae46-4a2e-ae05-55d588f6970f",
   "metadata": {},
   "source": [
    "**Explanation:**\n",
    "\n",
    "- `multiply` is a lambda function that takes two arguments, `a` and `b`, and returns their product `a * b`.\n",
    "- When called with `4` and `5`, it returns `20`.\n",
    "- This example shows how a lambda function can handle multiple arguments and perform a quick multiplication operation without needing a regular function definition.\n"
   ]
  },
  {
   "cell_type": "markdown",
   "id": "3671a33a-3f58-49e0-89c5-de0cfae34d2f",
   "metadata": {},
   "source": [
    "### ✅ Problem 3  \n",
    "**Task:** Use a lambda function with `filter()` to get all even numbers from a list."
   ]
  },
  {
   "cell_type": "code",
   "execution_count": 16,
   "id": "684ef507-56da-4a06-9a2a-85d76f55d2ba",
   "metadata": {},
   "outputs": [],
   "source": [
    "numbers = [1, 2, 3, 4, 5, 6, 7, 8, 9, 10]\n",
    "even_numbers = list(filter(lambda x: x % 2 == 0, numbers))"
   ]
  },
  {
   "cell_type": "code",
   "execution_count": 17,
   "id": "a71502af-c475-4578-9dd0-b24fd0d1dbef",
   "metadata": {},
   "outputs": [
    {
     "name": "stdout",
     "output_type": "stream",
     "text": [
      "[2, 4, 6, 8, 10]\n"
     ]
    }
   ],
   "source": [
    "print(even_numbers)  # Output: [2, 4, 6, 8, 10]"
   ]
  },
  {
   "cell_type": "markdown",
   "id": "39376865-c803-4765-93ee-e209fe0c3d66",
   "metadata": {},
   "source": [
    "**Explanation:**\n",
    "\n",
    "- The `filter()` function applies the lambda function to each item in the `numbers` list.\n",
    "- The lambda function `lambda x: x % 2 == 0` returns `True` for even numbers and `False` for odd numbers.\n",
    "- `filter()` keeps only the items for which the lambda function returns `True`.\n",
    "- `list()` converts the filtered result into a list.\n",
    "- This example demonstrates using lambda functions for filtering items based on a condition.\n"
   ]
  },
  {
   "cell_type": "markdown",
   "id": "6377c101-c46b-4666-b645-fac0995f69f8",
   "metadata": {},
   "source": [
    "### ✅ Problem 4  \n",
    "**Task:** Use a lambda function with `map()` to convert a list of temperatures from Celsius to Fahrenheit.\n"
   ]
  },
  {
   "cell_type": "code",
   "execution_count": 19,
   "id": "2fb8ad6e-a752-421e-bb26-c2675ee1aa09",
   "metadata": {},
   "outputs": [],
   "source": [
    "celsius_temps = [0, 10, 20, 30, 40]\n",
    "fahrenheit_temps = list(map(lambda c: (c * 9/5) + 32, celsius_temps))"
   ]
  },
  {
   "cell_type": "code",
   "execution_count": 20,
   "id": "d5367a6b-68dc-4edf-b875-befc4a2c27cb",
   "metadata": {},
   "outputs": [
    {
     "name": "stdout",
     "output_type": "stream",
     "text": [
      "[32.0, 50.0, 68.0, 86.0, 104.0]\n"
     ]
    }
   ],
   "source": [
    "print(fahrenheit_temps)  # Output: [32.0, 50.0, 68.0, 86.0, 104.0]"
   ]
  },
  {
   "cell_type": "markdown",
   "id": "c2c6030c-f4e7-417b-b70f-013db4289220",
   "metadata": {},
   "source": [
    "**Explanation:**\n",
    "\n",
    "- The `map()` function applies the lambda function to each item in the `celsius_temps` list.\n",
    "- The lambda function `lambda c: (c * 9/5) + 32` converts Celsius to Fahrenheit.\n",
    "- `map()` returns an iterator of converted temperatures, and `list()` converts it into a list.\n",
    "- This example shows how lambda functions can be used for transforming data in a list.\n"
   ]
  },
  {
   "cell_type": "markdown",
   "id": "87e1cd03-07a4-4ef5-9255-6b2c5984977a",
   "metadata": {},
   "source": [
    "### ✅ Problem 5  \n",
    "**Task:** Use a lambda function with `sorted()` to sort a list of tuples based on the second element.\n"
   ]
  },
  {
   "cell_type": "code",
   "execution_count": 21,
   "id": "ec190b42-fe97-423d-94fa-0607dfa263d8",
   "metadata": {},
   "outputs": [],
   "source": [
    "students = [(\"Alice\", 85), (\"Bob\", 72), (\"Charlie\", 90), (\"Diana\", 88)]\n",
    "\n",
    "# Sort by scores (second element in the tuple)\n",
    "sorted_students = sorted(students, key=lambda student: student[1])"
   ]
  },
  {
   "cell_type": "code",
   "execution_count": 22,
   "id": "6e362ddc-b0dd-457d-9c86-3439c23a835d",
   "metadata": {},
   "outputs": [
    {
     "name": "stdout",
     "output_type": "stream",
     "text": [
      "[('Bob', 72), ('Alice', 85), ('Diana', 88), ('Charlie', 90)]\n"
     ]
    }
   ],
   "source": [
    "print(sorted_students)\n",
    "# Output: [('Bob', 72), ('Alice', 85), ('Diana', 88), ('Charlie', 90)]"
   ]
  },
  {
   "cell_type": "markdown",
   "id": "20d950ff-fb55-4c31-912b-e6c90d539add",
   "metadata": {},
   "source": [
    "**Explanation:**\n",
    "\n",
    "- The `sorted()` function sorts the `students` list based on a key.\n",
    "- The lambda function `lambda student: student[1]` extracts the second element (the score) from each tuple.\n",
    "- `sorted()` arranges the tuples in ascending order based on the score.\n",
    "- This example demonstrates using a lambda function to customize sorting based on a specific element.\n"
   ]
  },
  {
   "cell_type": "markdown",
   "id": "156122cc-0e2e-4d99-842c-fb4f8af109dd",
   "metadata": {},
   "source": [
    "---\n",
    "## 🔹 Topic: Function Arguments\n",
    "\n",
    "✅ **Explanation**\n",
    "- Arguments are **values** passed to a function when it is called.\n",
    "- They allow functions to **accept input data**, making them **flexible and reusable**.\n",
    "- Arguments can be **positional**, **keyword**, **default**, or **variable-length**.\n",
    "\n",
    "✅ **Basic Syntax**\n",
    "```python\n",
    "def function_name(parameter1, parameter2, ...):\n",
    "    # code block\n",
    "    return result\n",
    "\n",
    "# Calling the function with arguments\n",
    "function_name(argument1, argument2, ...)\n",
    "```\n",
    "\n",
    "### ✅ Types of Arguments\n",
    "\n",
    "| **Type**            | **Description**                                     | **Example**                    |\n",
    "|---------------------|-----------------------------------------------------|--------------------------------|\n",
    "| **Positional**      | Arguments passed in order and matched by position.  | `greet(\"Alice\")`               |\n",
    "| **Keyword**         | Arguments passed by name, not position.             | `greet(name=\"Alice\")`          |\n",
    "| **Default**         | Arguments with default values if none are provided. | `def greet(name=\"Guest\")`      |\n",
    "| **Variable-length** | Accepts multiple values using `*args` or `**kwargs`. | `def greet(*names)`            |\n",
    "\n",
    "✅ **How It Works**\n",
    "\n",
    "- Define the function with parameters (placeholders for arguments).\n",
    "- Call the function with actual values (arguments).\n",
    "- The arguments are passed to the parameters in the function.\n",
    "- The function uses these values to execute its code.\n",
    "\n",
    "✅ **Key Points**\n",
    "\n",
    "- **Positional Arguments**: Matched by the position in which they are passed.\n",
    "- **Keyword Arguments**: Matched by the name of the parameter.\n",
    "- **Default Arguments**: Provide a default value if no argument is passed.\n",
    "- **Variable-length Arguments**:\n",
    "  - `*args`: Accepts a variable number of positional arguments.\n",
    "  - `**kwargs`: Accepts a variable number of keyword arguments.\n",
    "- Arguments make functions dynamic and reusable.\n",
    "- Ensure the order and names of arguments are correct to avoid errors.\n",
    "---"
   ]
  },
  {
   "cell_type": "markdown",
   "id": "12eacdee-8901-4992-b449-630b373f0922",
   "metadata": {},
   "source": [
    "### ✅ Example 1: Positional Arguments\n",
    "\n",
    "**Task**: Passing arguments to a function based on their position."
   ]
  },
  {
   "cell_type": "code",
   "execution_count": 23,
   "id": "39c8898c-ec23-41d6-a6e2-ec82ad459bfa",
   "metadata": {},
   "outputs": [],
   "source": [
    "def greet(name, message):\n",
    "    print(f\"{message}, {name}!\")"
   ]
  },
  {
   "cell_type": "code",
   "execution_count": 24,
   "id": "09b0f2b0-902a-4643-9be6-b23cf1ca71d2",
   "metadata": {},
   "outputs": [
    {
     "name": "stdout",
     "output_type": "stream",
     "text": [
      "Hello, Alice!\n"
     ]
    }
   ],
   "source": [
    "# Calling the function with arguments in correct order\n",
    "greet(\"Alice\", \"Hello\")  # Output: Hello, Alice!"
   ]
  },
  {
   "cell_type": "markdown",
   "id": "d9489305-c1fb-4643-bc7c-c918901289c2",
   "metadata": {},
   "source": [
    "**Explanation:**\n",
    "\n",
    "- The function `greet` takes two parameters: `name` and `message`.\n",
    "- When calling `greet(\"Alice\", \"Hello\")`, `\"Alice\"` is assigned to `name` and `\"Hello\"` is assigned to `message`.\n",
    "- The function prints the greeting message based on the position of the arguments passed.\n"
   ]
  },
  {
   "cell_type": "markdown",
   "id": "e9f1e44d-b9d7-40d5-8f34-48c2792c60dd",
   "metadata": {},
   "source": [
    "### ✅ Example 2: Keyword Arguments\n",
    "\n",
    "**Task**: Passing arguments by their name instead of position."
   ]
  },
  {
   "cell_type": "code",
   "execution_count": 25,
   "id": "333a6364-de15-4620-ad96-3e9278db6913",
   "metadata": {},
   "outputs": [],
   "source": [
    "def greet(name, message):\n",
    "    print(f\"{message}, {name}!\")"
   ]
  },
  {
   "cell_type": "code",
   "execution_count": 26,
   "id": "7c89f093-d2e4-47a7-9bc3-89a342841e82",
   "metadata": {},
   "outputs": [
    {
     "name": "stdout",
     "output_type": "stream",
     "text": [
      "Hi, Bob!\n"
     ]
    }
   ],
   "source": [
    "# Calling the function using keyword arguments\n",
    "greet(message=\"Hi\", name=\"Bob\")  # Output: Hi, Bob!"
   ]
  },
  {
   "cell_type": "markdown",
   "id": "2800ae90-99c7-489d-afe8-299632e112a7",
   "metadata": {},
   "source": [
    "**Explanation:**\r\n",
    "\r\n",
    "- The function `greet` takes two parameters: `name` and `message`.\r\n",
    "- When calling `greet(message=\"Hi\", name=\"Bob\")`, the arguments are passed by name rather than position.\r\n",
    "- This ensures that the values are assigned correctly, regardless of their order in the function call.\r\n"
   ]
  },
  {
   "cell_type": "markdown",
   "id": "45d4a065-eff7-48e0-ae16-c33eedbd0f8b",
   "metadata": {},
   "source": [
    "### ✅ Example 3: Default Arguments\n",
    "\n",
    "**Task**: Using default values for arguments when none are provided."
   ]
  },
  {
   "cell_type": "code",
   "execution_count": 27,
   "id": "2875cee3-a646-43b7-bb00-5aed29e085ec",
   "metadata": {},
   "outputs": [],
   "source": [
    "def greet(name, message=\"Welcome\"):\n",
    "    print(f\"{message}, {name}!\")\n"
   ]
  },
  {
   "cell_type": "code",
   "execution_count": 28,
   "id": "761982a9-4746-4b95-a4e3-2216dc6bbdda",
   "metadata": {},
   "outputs": [
    {
     "name": "stdout",
     "output_type": "stream",
     "text": [
      "Welcome, Charlie!\n"
     ]
    }
   ],
   "source": [
    "# Calling the function with only one argument\n",
    "greet(\"Charlie\")             # Output: Welcome, Charlie!"
   ]
  },
  {
   "cell_type": "code",
   "execution_count": 29,
   "id": "4ef13938-0c68-4ecc-ae25-eb71d2fa32fa",
   "metadata": {},
   "outputs": [
    {
     "name": "stdout",
     "output_type": "stream",
     "text": [
      "Hello, Charlie!\n"
     ]
    }
   ],
   "source": [
    "# Calling the function with both arguments\n",
    "greet(\"Charlie\", \"Hello\")    # Output: Hello, Charlie!"
   ]
  },
  {
   "cell_type": "markdown",
   "id": "53414958-bdfc-4805-a9da-009dd8fe21b1",
   "metadata": {},
   "source": [
    "**Explanation:**\n",
    "\n",
    "- The function `greet` takes two parameters: `name` and `message`.\n",
    "- The `message` parameter has a default value of `\"Welcome\"`.\n",
    "- When calling `greet(\"Charlie\")`, the function uses the default value for `message`, printing `\"Welcome, Charlie!\"`.\n",
    "- If both arguments are provided, as in `greet(\"Charlie\", \"Hello\")`, the provided value for `message` overrides the default.\n"
   ]
  },
  {
   "cell_type": "markdown",
   "id": "5677c803-1568-40e5-8aad-6c1719133c12",
   "metadata": {},
   "source": [
    "### ✅ Example 4: Variable-length Arguments\n",
    "\n",
    "**task**: Using `*args` to accept a variable number of positional arguments.\n"
   ]
  },
  {
   "cell_type": "code",
   "execution_count": 30,
   "id": "ba993202-6b3d-46af-810d-52c4b1008f7a",
   "metadata": {},
   "outputs": [],
   "source": [
    "def greet_all(*names):\n",
    "    for name in names:\n",
    "        print(f\"Hello, {name}!\")"
   ]
  },
  {
   "cell_type": "code",
   "execution_count": 31,
   "id": "1ad5d6f3-2f7d-440e-89b0-fe3fcaac993a",
   "metadata": {},
   "outputs": [
    {
     "name": "stdout",
     "output_type": "stream",
     "text": [
      "Hello, Alice!\n",
      "Hello, Bob!\n",
      "Hello, Charlie!\n"
     ]
    }
   ],
   "source": [
    "greet_all(\"Alice\", \"Bob\", \"Charlie\")\n",
    "# Output:\n",
    "# Hello, Alice!\n",
    "# Hello, Bob!\n",
    "# Hello, Charlie!"
   ]
  },
  {
   "cell_type": "markdown",
   "id": "8321e46c-cde9-4e4c-a727-6970775d6a33",
   "metadata": {},
   "source": [
    "**Explanation:**\n",
    "\n",
    "- The function `greet_all` accepts a variable number of positional arguments using `*names`.\n",
    "- Inside the function, the `names` variable is treated as a tuple that contains all the passed arguments.\n",
    "- The loop iterates over each name and prints a greeting for each one.\n",
    "- This demonstrates how to use `*args` to handle an unknown number of arguments.\n"
   ]
  },
  {
   "cell_type": "markdown",
   "id": "8ef6b51b-9ace-4c34-89e4-26d32073eff2",
   "metadata": {},
   "source": [
    "### ✅ Example 5: Variable-length Keyword Arguments (`**kwargs`)\n",
    "\n",
    "**Task**: Using `**kwargs` to accept a variable number of keyword arguments.\n"
   ]
  },
  {
   "cell_type": "code",
   "execution_count": 32,
   "id": "4bb1535c-4c5f-475f-a1bb-c723de14e3c1",
   "metadata": {},
   "outputs": [],
   "source": [
    "def print_details(**details):\n",
    "    for key, value in details.items():\n",
    "        print(f\"{key}: {value}\")\n"
   ]
  },
  {
   "cell_type": "code",
   "execution_count": 34,
   "id": "d74b4dd6-af63-4326-877e-992d4c3c978a",
   "metadata": {},
   "outputs": [
    {
     "name": "stdout",
     "output_type": "stream",
     "text": [
      "name: Alice\n",
      "age: 25\n",
      "city: New York\n"
     ]
    }
   ],
   "source": [
    "print_details(name=\"Alice\", age=25, city=\"New York\")\n",
    "# Output:\n",
    "# name: Alice\n",
    "# age: 25\n",
    "# city: New York"
   ]
  },
  {
   "cell_type": "markdown",
   "id": "bca190bf-5c92-409a-adbd-cb65ae01c8d3",
   "metadata": {},
   "source": [
    "**Explanation:**\n",
    "\n",
    "- The function `print_details` accepts a variable number of keyword arguments using `**details`.\n",
    "- Inside the function, `details` is treated as a dictionary containing all the passed key-value pairs.\n",
    "- The loop iterates over each key-value pair and prints the corresponding details.\n",
    "- This demonstrates how to use `**kwargs` to handle an unknown number of keyword arguments.\n"
   ]
  },
  {
   "cell_type": "code",
   "execution_count": null,
   "id": "f9bfd863-1f97-463e-8eac-865f0a3c0e33",
   "metadata": {},
   "outputs": [],
   "source": []
  }
 ],
 "metadata": {
  "kernelspec": {
   "display_name": "Python 3 (ipykernel)",
   "language": "python",
   "name": "python3"
  },
  "language_info": {
   "codemirror_mode": {
    "name": "ipython",
    "version": 3
   },
   "file_extension": ".py",
   "mimetype": "text/x-python",
   "name": "python",
   "nbconvert_exporter": "python",
   "pygments_lexer": "ipython3",
   "version": "3.11.2"
  }
 },
 "nbformat": 4,
 "nbformat_minor": 5
}
